{
 "cells": [
  {
   "cell_type": "markdown",
   "metadata": {
    "collapsed": true
   },
   "source": [
    "## Data Format: XML"
   ]
  },
  {
   "cell_type": "code",
   "execution_count": 1,
   "metadata": {
    "collapsed": true
   },
   "outputs": [],
   "source": [
    "import numpy as np\n",
    "import pandas as pd\n",
    "import requests\n",
    "from bs4 import BeautifulSoup\n",
    "import xml.etree.ElementTree as ET\n",
    "\n",
    "from nose.tools import ok_, assert_equal"
   ]
  },
  {
   "cell_type": "code",
   "execution_count": 7,
   "metadata": {},
   "outputs": [
    {
     "name": "stdout",
     "output_type": "stream",
     "text": [
      "  Origin Dest\n",
      "0    BWI  CLT\n",
      "1    BWI  CLT\n",
      "2    BWI  CLT\n",
      "3    BWI  CLT\n",
      "4    BWI  CLT\n"
     ]
    }
   ],
   "source": [
    "dest_origin = pd.read_csv(\n",
    "    '/Users/Constance/2001.csv',\n",
    "    encoding='latin-1',\n",
    "    usecols=('Dest', 'Origin')\n",
    ")\n",
    "\n",
    "print(dest_origin.head())"
   ]
  },
  {
   "cell_type": "markdown",
   "metadata": {},
   "source": [
    "### 1. Function: get_total_flights()"
   ]
  },
  {
   "cell_type": "code",
   "execution_count": 15,
   "metadata": {
    "collapsed": true
   },
   "outputs": [],
   "source": [
    "def get_total_flights(df):\n",
    "    '''\n",
    "    Takes a dataframe that has two columns Dest and Origin\n",
    "    and returns a dataframe that has a column named flights\n",
    "    and is indexed by IATA codes.\n",
    "    \n",
    "    Parameters\n",
    "    ----------\n",
    "    df: pandas.DataFrame\n",
    "    \n",
    "    Returns\n",
    "    -------\n",
    "    pandas.DataFrame\n",
    "    '''\n",
    "    \n",
    "    df1=df.groupby('Dest').size()\n",
    "    df2=df.groupby('Origin').size()\n",
    "    result=df1.add(df2, fill_value=0).astype(dtype=np.int32)\n",
    "    return result"
   ]
  },
  {
   "cell_type": "code",
   "execution_count": 16,
   "metadata": {},
   "outputs": [
    {
     "name": "stdout",
     "output_type": "stream",
     "text": [
      "ABE     10524\n",
      "ABI      5134\n",
      "ABQ     72477\n",
      "ACT      5368\n",
      "ACY         1\n",
      "ADQ      1452\n",
      "AKN       568\n",
      "ALB     32713\n",
      "AMA     12267\n",
      "ANC     42381\n",
      "APF       725\n",
      "ATL    503163\n",
      "AUS     85809\n",
      "AVL      3172\n",
      "AVP      2893\n",
      "AZO      5290\n",
      "BDL     71983\n",
      "BET      2306\n",
      "BFL      3338\n",
      "BGM       751\n",
      "BGR      7417\n",
      "BHM     37566\n",
      "BIL      6249\n",
      "BIS      2779\n",
      "BMI      2869\n",
      "BNA    112603\n",
      "BOI     24152\n",
      "BOS    266032\n",
      "BPT      3481\n",
      "BQN       518\n",
      "        ...  \n",
      "SHV     12011\n",
      "SIT      2758\n",
      "SJC    144653\n",
      "SJT      4505\n",
      "SJU     52957\n",
      "SLC    152859\n",
      "SMF     80394\n",
      "SNA     86871\n",
      "SPS      3985\n",
      "SRQ      9044\n",
      "STL    324477\n",
      "STT      6723\n",
      "STX      1817\n",
      "SUX       546\n",
      "SWF      2386\n",
      "SYR     22281\n",
      "TLH      2957\n",
      "TOL      4483\n",
      "TPA    137286\n",
      "TRI      1095\n",
      "TUL     45562\n",
      "TUS     39101\n",
      "TVC      5067\n",
      "TXK      3475\n",
      "TYR      6361\n",
      "TYS     11131\n",
      "VPS      3455\n",
      "WRG      1452\n",
      "XNA     11749\n",
      "YAK      1450\n",
      "Length: 231, dtype: int32\n"
     ]
    }
   ],
   "source": [
    "flights = get_total_flights(dest_origin)\n",
    "print(flights)"
   ]
  },
  {
   "cell_type": "code",
   "execution_count": 17,
   "metadata": {
    "collapsed": true
   },
   "outputs": [],
   "source": [
    "test1 = pd.DataFrame({\n",
    "    'Dest': ['A', 'B', 'A', 'A', 'C'],\n",
    "    'Origin': ['B', 'A', 'B', 'B', 'A']\n",
    "    })\n",
    "\n",
    "answer1 = pd.Series([5, 4, 1], index=['A', 'B', 'C'], dtype=np.int32)\n",
    "\n",
    "test2 = pd.DataFrame({\n",
    "    'Dest': ['A', 'B'],\n",
    "    'Origin': ['C', 'D']\n",
    "    })\n",
    "\n",
    "answer2 = pd.Series([1, 1, 1, 1], index=['A', 'B', 'C', 'D'], dtype=np.int32)\n",
    "\n",
    "ok_(get_total_flights(test1).equals(answer1))\n",
    "ok_(get_total_flights(test2).equals(answer2))"
   ]
  },
  {
   "cell_type": "code",
   "execution_count": 18,
   "metadata": {},
   "outputs": [
    {
     "name": "stdout",
     "output_type": "stream",
     "text": [
      "ORD    682636\n",
      "DFW    624361\n",
      "ATL    503163\n",
      "LAX    450019\n",
      "PHX    368631\n",
      "STL    324477\n",
      "DTW    297522\n",
      "MSP    284955\n",
      "LAS    272293\n",
      "BOS    266032\n",
      "DEN    265184\n",
      "IAH    257193\n",
      "CLT    256626\n",
      "SFO    243473\n",
      "EWR    241016\n",
      "PHL    239390\n",
      "LGA    232964\n",
      "PIT    212738\n",
      "SEA    205486\n",
      "BWI    199674\n",
      "dtype: int32\n"
     ]
    }
   ],
   "source": [
    "top20 = flights.sort_values(ascending=False, inplace=False)[:20]\n",
    "print(top20)"
   ]
  },
  {
   "cell_type": "markdown",
   "metadata": {},
   "source": [
    "### 2. Function: is_delayed()"
   ]
  },
  {
   "cell_type": "code",
   "execution_count": 122,
   "metadata": {
    "collapsed": true
   },
   "outputs": [],
   "source": [
    "def is_delayed(xml):\n",
    "    '''\n",
    "    Takes an IATA code and returns a Boolean.\n",
    "    \n",
    "    Parameter\n",
    "    ---------\n",
    "    xml (str): an XML code to parse.\n",
    "\n",
    "    Returns\n",
    "    -------\n",
    "    None if if the 'Delay' tag in the XML is false, e.g. <Delay>false</Delay>\n",
    "    If the 'Delay' tag is true, e.g. <Delay>true</Delay>, the function returns\n",
    "    a tuple of two strings, 'MinDelay' and 'MaxDelay'.\n",
    "    For example, when\n",
    "    <Delay>true</Delay>\n",
    "    <MinDelay>16 minutes</MinDelay>\n",
    "    <MaxDelay>30 minutes</MaxDelay>\n",
    "    the function returns ('16 minutes', '30 minutes').\n",
    "    '''\n",
    "    \n",
    "    tree = ET.ElementTree(ET.fromstring(xml))\n",
    "    root = tree.getroot()\n",
    "    if root[0].text=='true':\n",
    "        a=[]\n",
    "        for airport in root.findall('Status'):\n",
    "            a.append(airport[3].text)\n",
    "            a.append(airport[5].text)\n",
    "        a=tuple(a)\n",
    "    else:\n",
    "        a=None\n",
    "    return a"
   ]
  },
  {
   "cell_type": "code",
   "execution_count": 124,
   "metadata": {
    "collapsed": true
   },
   "outputs": [],
   "source": [
    "test1 = '''\n",
    "<?xml version=\"1.0\" encoding=\"UTF-8\"?><AirportStatus> \n",
    "\t\t\t\t\t<Delay>true</Delay>\n",
    "\t\t\t\t\n",
    "\t\t\t\t\t<IATA>ORD</IATA>\n",
    "\t\t\t\t\n",
    "\t\t\t\t\t<State>Illinois</State>\n",
    "\t\t\t\t\n",
    "\t\t\t\t\t<Name>Chicago OHare International</Name>\n",
    "\t\t\t\t\n",
    "\t\t\t\t\t<Weather><Visibility>10.00</Visibility>\n",
    "\t\t\t\t\n",
    "\t\t\t\t\t<Weather>Partly Cloudy</Weather>\n",
    "\t\t\t\t\n",
    "\t\t\t\t\t<Meta><Credit>NOAA&apos;s National Weather Service</Credit>\n",
    "\t\t\t\t\n",
    "\t\t\t\t\t<Updated>12:51 PM Local</Updated>\n",
    "\t\t\t\t\n",
    "\t\t\t\t\t<Url>http://weather.gov/</Url></Meta>\n",
    "\t\t\t\t\n",
    "\t\t\t\t\t<Temp>53.0 F (11.7 C)</Temp>\n",
    "\t\t\t\t\n",
    "\t\t\t\t\t<Wind>Northwest at 12.7mph</Wind></Weather>\n",
    "\t\t\t\t\n",
    "\t\t\t\t\t<ICAO>KORD</ICAO>\n",
    "\t\t\t\t\n",
    "\t\t\t\t\t<City>Chicago</City>\n",
    "\t\t\t\t\n",
    "\t\t\t\t\t<Status><Reason>VOL:Multi-taxi</Reason>\n",
    "\t\t\t\t\n",
    "\t\t\t\t\t<ClosureBegin></ClosureBegin>\n",
    "\t\t\t\t\n",
    "\t\t\t\t\t<EndTime></EndTime>\n",
    "\t\t\t\t\n",
    "\t\t\t\t\t<MinDelay>16 minutes</MinDelay>\n",
    "\t\t\t\t\n",
    "\t\t\t\t\t<AvgDelay></AvgDelay>\n",
    "\t\t\t\t\n",
    "\t\t\t\t\t<MaxDelay>30 minutes</MaxDelay>\n",
    "\t\t\t\t\n",
    "\t\t\t\t\t<ClosureEnd></ClosureEnd>\n",
    "\t\t\t\t\n",
    "\t\t\t\t\t<Trend>Increasing</Trend>\n",
    "\t\t\t\t\n",
    "\t\t\t\t\t<Type>Departure</Type></Status>\n",
    "\t\t\t\t</AirportStatus> \n",
    "'''.strip()\n",
    "\n",
    "test2 = '''\n",
    "<?xml version=\"1.0\" encoding=\"UTF-8\"?><AirportStatus> \n",
    "\t\t\t\t\t<Delay>false</Delay>\n",
    "\t\t\t\t\n",
    "\t\t\t\t\t<IATA>SFO</IATA>\n",
    "\t\t\t\t\n",
    "\t\t\t\t\t<State>California</State>\n",
    "\t\t\t\t\n",
    "\t\t\t\t\t<Name>San Francisco International</Name>\n",
    "\t\t\t\t\n",
    "\t\t\t\t\t<Weather><Visibility>10.00</Visibility>\n",
    "\t\t\t\t\n",
    "\t\t\t\t\t<Weather>Partly Cloudy</Weather>\n",
    "\t\t\t\t\n",
    "\t\t\t\t\t<Meta><Credit>NOAA&apos;s National Weather Service</Credit>\n",
    "\t\t\t\t\n",
    "\t\t\t\t\t<Updated>12:56 PM Local</Updated>\n",
    "\t\t\t\t\n",
    "\t\t\t\t\t<Url>http://weather.gov/</Url></Meta>\n",
    "\t\t\t\t\n",
    "\t\t\t\t\t<Temp>68.0 F (20.0 C)</Temp>\n",
    "\t\t\t\t\n",
    "\t\t\t\t\t<Wind>North at 5.8mph</Wind></Weather>\n",
    "\t\t\t\t\n",
    "\t\t\t\t\t<ICAO>KSFO</ICAO>\n",
    "\t\t\t\t\n",
    "\t\t\t\t\t<City>San Francisco</City>\n",
    "\t\t\t\t\n",
    "\t\t\t\t\t<Status><Reason>No known delays for this airport.</Reason>\n",
    "\t\t\t\t\n",
    "\t\t\t\t\t<ClosureBegin></ClosureBegin>\n",
    "\t\t\t\t\n",
    "\t\t\t\t\t<EndTime></EndTime>\n",
    "\t\t\t\t\n",
    "\t\t\t\t\t<MinDelay></MinDelay>\n",
    "\t\t\t\t\n",
    "\t\t\t\t\t<AvgDelay></AvgDelay>\n",
    "\t\t\t\t\n",
    "\t\t\t\t\t<MaxDelay></MaxDelay>\n",
    "\t\t\t\t\n",
    "\t\t\t\t\t<ClosureEnd></ClosureEnd>\n",
    "\t\t\t\t\n",
    "\t\t\t\t\t<Trend></Trend>\n",
    "\t\t\t\t\n",
    "\t\t\t\t\t<Type></Type></Status>\n",
    "\t\t\t\t</AirportStatus> \n",
    "'''.strip()"
   ]
  },
  {
   "cell_type": "code",
   "execution_count": 131,
   "metadata": {
    "collapsed": true
   },
   "outputs": [],
   "source": [
    "assert_equal(is_delayed(test1), ('16 minutes', '30 minutes'))\n",
    "assert_equal(is_delayed(test2), None)"
   ]
  },
  {
   "cell_type": "code",
   "execution_count": 132,
   "metadata": {},
   "outputs": [
    {
     "name": "stdout",
     "output_type": "stream",
     "text": [
      "ORD is not delayed.\n",
      "DFW is not delayed.\n",
      "ATL is not delayed.\n",
      "LAX is not delayed.\n",
      "PHX is not delayed.\n",
      "STL is not delayed.\n",
      "DTW is not delayed.\n",
      "MSP is not delayed.\n",
      "LAS is not delayed.\n",
      "BOS is not delayed.\n",
      "DEN is not delayed.\n",
      "IAH is not delayed.\n",
      "CLT is not delayed.\n",
      "SFO is not delayed.\n",
      "EWR is delayed by None to None.\n",
      "PHL is not delayed.\n",
      "LGA is not delayed.\n",
      "PIT is not delayed.\n",
      "SEA is not delayed.\n",
      "BWI is not delayed.\n"
     ]
    }
   ],
   "source": [
    "for airport in top20.index:\n",
    "    url = 'http://services.faa.gov/airport/status/{}'.format(airport)\n",
    "    payload = {\n",
    "        'format': 'application/xml'\n",
    "    }\n",
    "    r = requests.get(url)\n",
    "    delay = is_delayed(r.text)\n",
    "    if delay is None:\n",
    "        print('{} is not delayed.'.format(airport))\n",
    "    else:\n",
    "        print('{} is delayed by {} to {}.'.format(airport, delay[0], delay[1]))"
   ]
  }
 ],
 "metadata": {
  "kernelspec": {
   "display_name": "Python 3",
   "language": "python",
   "name": "python3"
  },
  "language_info": {
   "codemirror_mode": {
    "name": "ipython",
    "version": 3
   },
   "file_extension": ".py",
   "mimetype": "text/x-python",
   "name": "python",
   "nbconvert_exporter": "python",
   "pygments_lexer": "ipython3",
   "version": "3.6.1"
  }
 },
 "nbformat": 4,
 "nbformat_minor": 2
}
