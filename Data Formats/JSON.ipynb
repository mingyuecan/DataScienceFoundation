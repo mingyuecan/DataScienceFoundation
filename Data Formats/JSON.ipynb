{
 "cells": [
  {
   "cell_type": "markdown",
   "metadata": {
    "collapsed": true
   },
   "source": [
    "## Data Format: JSON"
   ]
  },
  {
   "cell_type": "code",
   "execution_count": 140,
   "metadata": {
    "collapsed": true
   },
   "outputs": [],
   "source": [
    "from nose.tools import assert_equal\n",
    "import os\n",
    "import json\n",
    "import requests"
   ]
  },
  {
   "cell_type": "code",
   "execution_count": 141,
   "metadata": {
    "collapsed": true
   },
   "outputs": [],
   "source": [
    "r = requests.get('https://raw.githubusercontent.com/UI-DataScience/info490-fa15/master/Week2/notebooks/intro2ipy.ipynb')\n",
    "with open('intro2ipy.ipynb', 'w') as f:\n",
    "    f.write(r.text)"
   ]
  },
  {
   "cell_type": "markdown",
   "metadata": {},
   "source": [
    "### Function: get_keys()"
   ]
  },
  {
   "cell_type": "code",
   "execution_count": 154,
   "metadata": {
    "collapsed": true
   },
   "outputs": [],
   "source": [
    "def get_keys(filename):\n",
    "    '''\n",
    "    Takes the file name (str) of a JSON text file and returns the keys of the top-level dictionary.\n",
    "    \n",
    "    Parameters\n",
    "    ----------\n",
    "    filename (str): a JSON file.\n",
    "    \n",
    "    Returns\n",
    "    -------\n",
    "    A list of strings.\n",
    "    '''\n",
    "    \n",
    "    with open(filename, 'r') as jd:\n",
    "        data = json.load(jd)\n",
    "    return list(data.keys())"
   ]
  },
  {
   "cell_type": "code",
   "execution_count": 157,
   "metadata": {
    "collapsed": true
   },
   "outputs": [],
   "source": [
    "test1 = get_keys('intro2ipy.ipynb')\n",
    "answer1 = ['cells', 'nbformat_minor', 'metadata', 'nbformat']\n",
    "\n",
    "assert_equal(len(test1), len(answer1))\n",
    "assert_equal(set(test1), set(answer1))\n",
    "\n",
    "test2 = {\n",
    "    'A': 1,\n",
    "    'B': {'C': 2, 'D': 3},\n",
    "    'C': {\n",
    "        'E': {'F': 4},\n",
    "        'G': {'H': 5, 'I': 6}\n",
    "    }\n",
    "}\n",
    "\n",
    "answer2 = ['A', 'B', 'C']\n",
    "\n",
    "with open('test.json', 'w') as f:\n",
    "    json.dump(test2, f)\n",
    "\n",
    "assert_equal(len(get_keys('test.json')), len(answer2))\n",
    "assert_equal(set(get_keys('test.json')), set(answer2))\n",
    "\n",
    "os.remove('test.json')"
   ]
  },
  {
   "cell_type": "markdown",
   "metadata": {},
   "source": [
    "### Function: get_version()"
   ]
  },
  {
   "cell_type": "code",
   "execution_count": 174,
   "metadata": {
    "collapsed": true
   },
   "outputs": [],
   "source": [
    "def get_version(filename):\n",
    "    '''\n",
    "    Takes a file name (str) of a JSON file.\n",
    "    Returns a tuple of (\"the programming language of the kernel\", \"the version of the language\", nbformat).\n",
    "    \n",
    "    Parameters\n",
    "    ----------\n",
    "    filename (str): a JSON file.\n",
    "    \n",
    "    Returns\n",
    "    -------\n",
    "    A tuple of (str, str, int)\n",
    "    '''\n",
    "    \n",
    "    with open(filename, 'r') as jd:\n",
    "        data = json.load(jd)\n",
    "        name=data['metadata']['language_info']['name']\n",
    "        vers=data['metadata']['language_info']['version']\n",
    "        nfmt=data['nbformat']\n",
    "    result=(name, vers, nfmt)\n",
    "    return result"
   ]
  },
  {
   "cell_type": "code",
   "execution_count": 177,
   "metadata": {},
   "outputs": [
    {
     "name": "stdout",
     "output_type": "stream",
     "text": [
      "('python', '3.4.0', 4)\n"
     ]
    }
   ],
   "source": [
    "print(get_version('intro2ipy.ipynb'))"
   ]
  },
  {
   "cell_type": "code",
   "execution_count": 178,
   "metadata": {
    "collapsed": true
   },
   "outputs": [],
   "source": [
    "test1 = get_version('intro2ipy.ipynb')\n",
    "answer1 = ('python', '3.4.0', 4)\n",
    "\n",
    "assert_equal(test1, answer1)\n",
    "\n",
    "test2 = {\n",
    "  \"metadata\" : {\n",
    "    \"signature\": \"hex-digest\", # used for authenticating unsafe outputs on load\n",
    "    \"kernel_info\": {\n",
    "        # if kernel_info is defined, its name field is required.\n",
    "        \"name\" : \"the name of the kernel\"\n",
    "    },\n",
    "    \"language_info\": {\n",
    "        # if language_info is defined, its name field is required.\n",
    "        \"name\" : \"the programming language of the kernel\",\n",
    "        \"version\": \"the version of the language\",\n",
    "        \"codemirror_mode\": \"The name of the codemirror mode to use [optional]\"\n",
    "    }\n",
    "  },\n",
    "  \"nbformat\": 4,\n",
    "  \"nbformat_minor\": 0,\n",
    "  \"cells\" : [\n",
    "      # list of cell dictionaries, see below\n",
    "  ],\n",
    "}\n",
    "\n",
    "answer2 = (\"the programming language of the kernel\", \"the version of the language\", 4)\n",
    "\n",
    "with open('test.json', 'w') as f:\n",
    "    json.dump(test2, f)\n",
    "    \n",
    "assert_equal(get_version('test.json'), answer2)\n",
    "\n",
    "os.remove('test.json')"
   ]
  },
  {
   "cell_type": "markdown",
   "metadata": {},
   "source": [
    "### Function: count_code_cells()"
   ]
  },
  {
   "cell_type": "code",
   "execution_count": 225,
   "metadata": {
    "collapsed": true
   },
   "outputs": [],
   "source": [
    "def count_code_cells(filename, cell_type):\n",
    "    '''\n",
    "    Takes a filename and a cell type, and returns the number count of that cell type.\n",
    "    \n",
    "    Parameters\n",
    "    ----------\n",
    "    filename (str): a JSON file.\n",
    "    cell_type (str): \"code\", \"markdown\", etc.\n",
    "    \n",
    "    Returns\n",
    "    -------\n",
    "    An int.\n",
    "    '''\n",
    "    \n",
    "    alltype=[]\n",
    "    counts=0\n",
    "    with open(filename, 'r') as jd:\n",
    "        data = json.load(jd)\n",
    "    for i in data['cells']:\n",
    "        j=i[\"cell_type\"]\n",
    "        alltype.append(j)\n",
    "    for j in alltype:\n",
    "        if j==cell_type:\n",
    "            counts+=1\n",
    "    return counts"
   ]
  },
  {
   "cell_type": "code",
   "execution_count": 230,
   "metadata": {},
   "outputs": [
    {
     "name": "stdout",
     "output_type": "stream",
     "text": [
      "There are 5 code cells and 16 markdown cells.\n"
     ]
    }
   ],
   "source": [
    "n_code = count_code_cells('intro2ipy.ipynb', 'code')\n",
    "n_markdown = count_code_cells('intro2ipy.ipynb', 'markdown')\n",
    "\n",
    "print('There are {} code cells and {} markdown cells.'.format(n_code, n_markdown))\n",
    "\n",
    "assert_equal(count_code_cells('intro2ipy.ipynb', 'code'), 5)\n",
    "assert_equal(count_code_cells('intro2ipy.ipynb', 'markdown'), 16)\n",
    "\n",
    "test = {\n",
    "  \"cells\" : [\n",
    "    {\n",
    "      \"cell_type\" : \"type1\",\n",
    "      \"metadata\" : {},\n",
    "      \"source\" : \"single string or [list, of, strings]\",\n",
    "      },\n",
    "    {\n",
    "      \"cell_type\" : \"type1\",\n",
    "      \"metadata\" : {},\n",
    "      \"source\" : \"single string or [list, of, strings]\",\n",
    "      },\n",
    "    {\n",
    "      \"cell_type\" : \"type2\",\n",
    "      \"metadata\" : {},\n",
    "      \"source\" : \"single string or [list, of, strings]\",\n",
    "      }\n",
    "  ],\n",
    "} \n",
    "\n",
    "with open('test.json', 'w') as f:\n",
    "    json.dump(test, f)\n",
    "\n",
    "assert_equal(count_code_cells('test.json', 'type1'), 2)\n",
    "assert_equal(count_code_cells('test.json', 'type2'), 1)\n",
    "assert_equal(count_code_cells('test.json', 'type3'), 0)\n",
    "\n",
    "os.remove('test.json')"
   ]
  }
 ],
 "metadata": {
  "kernelspec": {
   "display_name": "Python 3",
   "language": "python",
   "name": "python3"
  },
  "language_info": {
   "codemirror_mode": {
    "name": "ipython",
    "version": 3
   },
   "file_extension": ".py",
   "mimetype": "text/x-python",
   "name": "python",
   "nbconvert_exporter": "python",
   "pygments_lexer": "ipython3",
   "version": "3.6.1"
  }
 },
 "nbformat": 4,
 "nbformat_minor": 2
}
