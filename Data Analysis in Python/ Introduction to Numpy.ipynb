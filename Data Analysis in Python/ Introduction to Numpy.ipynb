{
 "cells": [
  {
   "cell_type": "code",
   "execution_count": 1,
   "metadata": {
    "collapsed": true
   },
   "outputs": [],
   "source": [
    "from nose.tools import assert_equal, assert_true\n",
    "from numpy.testing import assert_array_equal, assert_almost_equal\n",
    "import numpy as np"
   ]
  },
  {
   "cell_type": "code",
   "execution_count": 2,
   "metadata": {},
   "outputs": [
    {
     "name": "stdout",
     "output_type": "stream",
     "text": [
      "\"iata\",\"airport\",\"city\",\"state\",\"country\",\"lat\",\"long\"\r\n",
      "\"00M\",\"Thigpen \",\"Bay Springs\",\"MS\",\"USA\",31.95376472,-89.23450472\r\n",
      "\"00R\",\"Livingston Municipal\",\"Livingston\",\"TX\",\"USA\",30.68586111,-95.01792778\r\n",
      "\"00V\",\"Meadow Lake\",\"Colorado Springs\",\"CO\",\"USA\",38.94574889,-104.5698933\r\n",
      "\"01G\",\"Perry-Warsaw\",\"Perry\",\"NY\",\"USA\",42.74134667,-78.05208056\r\n",
      "\"01J\",\"Hilliard Airpark\",\"Hilliard\",\"FL\",\"USA\",30.6880125,-81.90594389\r\n",
      "\"01M\",\"Tishomingo County\",\"Belmont\",\"MS\",\"USA\",34.49166667,-88.20111111\r\n",
      "\"02A\",\"Gragg-Wade \",\"Clanton\",\"AL\",\"USA\",32.85048667,-86.61145333\r\n",
      "\"02C\",\"Capitol\",\"Brookfield\",\"WI\",\"USA\",43.08751,-88.17786917\r\n",
      "\"02G\",\"Columbiana County\",\"East Liverpool\",\"OH\",\"USA\",40.67331278,-80.64140639\r\n"
     ]
    }
   ],
   "source": [
    "!head ~/airports.csv"
   ]
  },
  {
   "cell_type": "code",
   "execution_count": 3,
   "metadata": {
    "collapsed": true
   },
   "outputs": [],
   "source": [
    "my_array = np.loadtxt('airports.csv', dtype=bytes,delimiter=\",\",usecols=(1,3,5)).astype(\"U\")"
   ]
  },
  {
   "cell_type": "code",
   "execution_count": 4,
   "metadata": {
    "collapsed": true
   },
   "outputs": [],
   "source": [
    "my_array=np.core.defchararray.strip(my_array,'\"')"
   ]
  },
  {
   "cell_type": "code",
   "execution_count": 27,
   "metadata": {},
   "outputs": [
    {
     "name": "stdout",
     "output_type": "stream",
     "text": [
      "Brown  Municipal\n"
     ]
    }
   ],
   "source": [
    "new_array=my_array[my_array[:,1]=='CA']\n",
    "print(new_array[np.argmin(new_array[:, 2]),0])"
   ]
  },
  {
   "cell_type": "markdown",
   "metadata": {},
   "source": [
    "## Problem 1"
   ]
  },
  {
   "cell_type": "code",
   "execution_count": 43,
   "metadata": {
    "collapsed": true
   },
   "outputs": [],
   "source": [
    "def north_south_airports(state):\n",
    "    '''\n",
    "    Finds the northernmost and southernmost airports from data.csv\n",
    "    \n",
    "    Parameters\n",
    "    ----------\n",
    "    state: the two-letter state code as given in the data.csv file\n",
    "    \n",
    "    Returns\n",
    "    -------\n",
    "    a 1-d numpy array of the form array(['Northernmost', 'Southernmost'])\n",
    "    '''\n",
    "    \n",
    "    new_array=my_array[my_array[:,1]==state]\n",
    "    north=new_array[np.argmax(new_array[:, 2]),0]\n",
    "    south=new_array[np.argmin(new_array[:, 2]),0]\n",
    "    return np.array([north, south])"
   ]
  },
  {
   "cell_type": "code",
   "execution_count": 49,
   "metadata": {},
   "outputs": [
    {
     "data": {
      "text/plain": [
       "array(['Waukegan Regional', 'Cairo'], \n",
       "      dtype='<U17')"
      ]
     },
     "execution_count": 49,
     "metadata": {},
     "output_type": "execute_result"
    }
   ],
   "source": [
    "north_south_airports('IL')"
   ]
  },
  {
   "cell_type": "code",
   "execution_count": 51,
   "metadata": {},
   "outputs": [
    {
     "data": {
      "text/plain": [
       "array(['Princeville', 'Hilo International'], \n",
       "      dtype='<U18')"
      ]
     },
     "execution_count": 51,
     "metadata": {},
     "output_type": "execute_result"
    }
   ],
   "source": [
    "north_south_airports('HI')"
   ]
  },
  {
   "cell_type": "code",
   "execution_count": 52,
   "metadata": {
    "collapsed": true
   },
   "outputs": [],
   "source": [
    "# assert tests for California\n",
    "CA_airpts = north_south_airports(\"CA\")\n",
    "assert_equal(CA_airpts.shape, (2, ))\n",
    "CA_airpts_list = [x.strip() for x in CA_airpts]\n",
    "assert_true('Tulelake Municipal' in CA_airpts_list[0])\n",
    "assert_true('Brown  Municipal' in CA_airpts_list[1])\n",
    "# assert tests for Missouri\n",
    "MO_airpts = north_south_airports(\"MO\")\n",
    "assert_equal(MO_airpts.shape, (2, ))\n",
    "MO_airpts_list = [x.strip() for x in MO_airpts]\n",
    "assert_true('Memphis Memorial' in MO_airpts_list[0])\n",
    "assert_true('Caruthersville Memorial' in MO_airpts_list[1])"
   ]
  },
  {
   "cell_type": "markdown",
   "metadata": {},
   "source": [
    "## Problem 2"
   ]
  },
  {
   "cell_type": "code",
   "execution_count": 50,
   "metadata": {
    "collapsed": true
   },
   "outputs": [],
   "source": [
    "def create_design_matrix(x):\n",
    "    '''\n",
    "    Creates a design matrix for use in regression \n",
    "    \n",
    "    Parameters\n",
    "    ----------\n",
    "    x: a 1-d numpy array\n",
    "    \n",
    "    Returns\n",
    "    -------\n",
    "    a 2-d numpy array with 2 columns, the first is a column of 1's and\n",
    "    the second is the original array x\n",
    "    '''\n",
    "\n",
    "    b=np.ones((x.shape[0],1))\n",
    "    d=x.reshape(x.shape[0],1)\n",
    "    c=np.hstack((b,d))\n",
    "    return c"
   ]
  },
  {
   "cell_type": "code",
   "execution_count": 52,
   "metadata": {
    "collapsed": true
   },
   "outputs": [],
   "source": [
    "des_mtx = create_design_matrix(np.array([1.1,2.2,3.3]))\n",
    "assert_array_equal(des_mtx, np.array([[1., 1.1], [1., 2.2], [1., 3.3]]))"
   ]
  },
  {
   "cell_type": "markdown",
   "metadata": {},
   "source": [
    "### Problem 3"
   ]
  },
  {
   "cell_type": "code",
   "execution_count": 64,
   "metadata": {
    "collapsed": true
   },
   "outputs": [],
   "source": [
    "def slr(x, y):\n",
    "    '''\n",
    "    Estimates beta coefficients for a simple linear regression\n",
    "    \n",
    "    Parameters\n",
    "    ----------\n",
    "    x: a 1-d numpy array\n",
    "    y: a 1-d numpy array\n",
    "    \n",
    "    Returns\n",
    "    -------\n",
    "    a 1-d numpy array with 2 elements, [beta0, beta1]\n",
    "    '''\n",
    "\n",
    "    e=create_design_matrix(x)\n",
    "    i=np.dot(e.T,e)     \n",
    "    j=np.linalg.inv(i)\n",
    "    k=np.dot(e.T,y)\n",
    "    result=np.dot(j,k) \n",
    "    return result"
   ]
  },
  {
   "cell_type": "code",
   "execution_count": 66,
   "metadata": {},
   "outputs": [
    {
     "name": "stdout",
     "output_type": "stream",
     "text": [
      "Regression Report\n",
      "------------------------------\n",
      "True beta0 =  5\n",
      "Pred beta0 =  4.9828157012\n",
      "True beta1 =  0.22727272727272727\n",
      "Pred beta1 =  0.228116394422\n",
      "True ice cream sales for x=50:  16.363636363636363\n",
      "Pred ice cream sales for x=50:  16.3886354223\n",
      "Error: -0.0249990586625\n"
     ]
    }
   ],
   "source": [
    "x = np.linspace(-20, 60, 10000)\n",
    "# create true y values as a function of x and add random noise\n",
    "y = 5 + 5/22 * x + np.random.randn(len(x))\n",
    "# create the beta coefficient from the data\n",
    "beta=slr(x, y)\n",
    "print('Regression Report')\n",
    "print('-'*30)\n",
    "print('True beta0 = ', 5)\n",
    "print(\"Pred beta0 = \", beta[0])\n",
    "print('True beta1 = ', 5/22)\n",
    "print(\"Pred beta1 = \", beta[1])\n",
    "print('True ice cream sales for x=50: ', 5 + 5/22 * 50)\n",
    "print('Pred ice cream sales for x=50: ', np.dot(beta, np.array([1, 50.])))\n",
    "print('Error:', 5 + 5/22 * 50 - np.dot(beta, np.array([1, 50.])))"
   ]
  },
  {
   "cell_type": "code",
   "execution_count": 68,
   "metadata": {
    "collapsed": true
   },
   "outputs": [],
   "source": [
    "#create x and y with random noise\n",
    "np.random.seed(1000)\n",
    "x = np.random.randn(10000)\n",
    "y = 3.4 + 1.3 * x + np.random.randn(10000)\n",
    "# compute the beta vector\n",
    "beta = slr(x, y)\n",
    "# check that the true beta is close to the estimated beta\n",
    "assert_almost_equal(np.array([3.4, 1.3]), beta, decimal=1)\n",
    "\n",
    "# try another b0 and b1\n",
    "y = 101.4 + 1176.1 * x + np.random.randn(10000)\n",
    "# compute the beta vector\n",
    "beta = slr(x, y)\n",
    "# check that the true beta is close to the estimated beta\n",
    "assert_almost_equal(np.array([101.4, 1176.1]), beta, decimal=1)"
   ]
  }
 ],
 "metadata": {
  "kernelspec": {
   "display_name": "Python 3",
   "language": "python",
   "name": "python3"
  },
  "language_info": {
   "codemirror_mode": {
    "name": "ipython",
    "version": 3
   },
   "file_extension": ".py",
   "mimetype": "text/x-python",
   "name": "python",
   "nbconvert_exporter": "python",
   "pygments_lexer": "ipython3",
   "version": "3.6.1"
  }
 },
 "nbformat": 4,
 "nbformat_minor": 2
}
