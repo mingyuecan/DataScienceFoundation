{
 "cells": [
  {
   "cell_type": "code",
   "execution_count": 1,
   "metadata": {
    "collapsed": true
   },
   "outputs": [],
   "source": [
    "%matplotlib inline\n",
    "\n",
    "# plotting tools\n",
    "import numpy as np\n",
    "import pandas as pd\n",
    "import matplotlib as mpl\n",
    "import matplotlib.pyplot as plt\n",
    "import seaborn as sns\n",
    "sns.set_style(\"whitegrid\")\n",
    "\n",
    "# testing tools\n",
    "from nose.tools import assert_equal, assert_is_instance, assert_is_not\n",
    "from numpy.testing import assert_array_equal\n",
    "from pandas.util.testing import assert_frame_equal"
   ]
  },
  {
   "cell_type": "markdown",
   "metadata": {},
   "source": [
    "## Problem 1. Flight Cancellations by Month"
   ]
  },
  {
   "cell_type": "markdown",
   "metadata": {},
   "source": [
    "### 1. Function: get_month_cancelled()"
   ]
  },
  {
   "cell_type": "code",
   "execution_count": 2,
   "metadata": {
    "collapsed": true
   },
   "outputs": [],
   "source": [
    "def get_month_cancelled(filepath):\n",
    "    '''\n",
    "    Reads the \"Month\" and \"Cancelled\" columns of a CSV file\n",
    "    and returns a Pandas DataFrame with only one column \"Cancelled\"\n",
    "    indexed by the months.\n",
    "    \n",
    "    Parameters\n",
    "    ----------\n",
    "    filename(str): The filename of the CSV file.\n",
    "    \n",
    "    Returns\n",
    "    -------\n",
    "    pd.DataFrame: \"Cancelled\" column, indexed by names of the months.\n",
    "    '''\n",
    "    \n",
    "    df = pd.read_csv(filepath, encoding='latin-1', usecols=['Month','Cancelled'])\n",
    "    df['Month']=df['Month'].map({1: 'January', 2:'February', 3:'March', 4:'April',\n",
    "           5:'May', 6:'June', 7:'July', 8:'August',\n",
    "           9:'September', 10:'October', 11:'November', 12:'December'})\n",
    "    result=df.groupby(\"Month\",sort=False).sum()\n",
    "    result.index.name = None\n",
    "    return result"
   ]
  },
  {
   "cell_type": "code",
   "execution_count": 3,
   "metadata": {
    "scrolled": true
   },
   "outputs": [
    {
     "name": "stdout",
     "output_type": "stream",
     "text": [
      "           Cancelled\n",
      "January        19891\n",
      "February       17448\n",
      "March          17876\n",
      "April          11414\n",
      "May             9452\n",
      "June           15509\n",
      "July           11286\n",
      "August         13318\n",
      "September      99324\n",
      "October         6850\n",
      "November        4497\n",
      "December        4333\n"
     ]
    }
   ],
   "source": [
    "csv_path = '2001.csv'\n",
    "month_cancelled = get_month_cancelled(csv_path)\n",
    "print(month_cancelled)"
   ]
  },
  {
   "cell_type": "code",
   "execution_count": 4,
   "metadata": {
    "collapsed": true
   },
   "outputs": [],
   "source": [
    "p1_answer = pd.DataFrame(\n",
    "    [19891, 17448, 17876, 11414,\n",
    "     9452, 15509, 11286, 13318,\n",
    "     99324, 6850, 4497, 4333],\n",
    "    index=['January', 'February', 'March', 'April',\n",
    "           'May', 'June', 'July', 'August',\n",
    "           'September', 'October', 'November', 'December'],\n",
    "    columns=['Cancelled']\n",
    "    )\n",
    "\n",
    "assert_frame_equal(month_cancelled, p1_answer)"
   ]
  },
  {
   "cell_type": "markdown",
   "metadata": {},
   "source": [
    "### 2. Function: plot_month_cancelled()"
   ]
  },
  {
   "cell_type": "code",
   "execution_count": 11,
   "metadata": {
    "collapsed": true
   },
   "outputs": [],
   "source": [
    "def plot_month_cancelled(df):\n",
    "    fig, ax = plt.subplots()\n",
    "    df.plot(kind='bar',ax=ax)\n",
    "    ax.set_title(\"Month Cancelled Plot\")\n",
    "    ax.set_xlabel(\"month\")\n",
    "    ax.set_ylabel(\"cancellation number\")\n",
    "    return ax"
   ]
  },
  {
   "cell_type": "code",
   "execution_count": 12,
   "metadata": {},
   "outputs": [
    {
     "data": {
      "image/png": "[encoded data removed]",
      "text/plain": [
       "<matplotlib.figure.Figure at 0x1131d77b8>"
      ]
     },
     "metadata": {},
     "output_type": "display_data"
    }
   ],
   "source": [
    "ax = plot_month_cancelled(month_cancelled)"
   ]
  },
  {
   "cell_type": "code",
   "execution_count": 13,
   "metadata": {
    "collapsed": true
   },
   "outputs": [],
   "source": [
    "# assertions\n",
    "# check title, axis labels\n",
    "assert_is_instance(\n",
    "    ax, mpl.axes.Axes,\n",
    "    msg=\"Your function should return a matplotlib.axes.Axes object.\"\n",
    ")\n",
    "\n",
    "assert_is_not(\n",
    "    len(ax.title.get_text()), 0,\n",
    "    msg=\"Your plot doesn't have a title.\"\n",
    ")\n",
    "\n",
    "assert_is_not(\n",
    "    ax.xaxis.get_label_text(), '',\n",
    "    msg=\"Change the x-axis label to something more descriptive.\"\n",
    ")\n",
    "\n",
    "assert_is_not(\n",
    "    ax.yaxis.get_label_text(), '',\n",
    "    msg=\"Change the y-axis label to something more descriptive.\"\n",
    ")\n",
    "\n",
    "# check data\n",
    "assert_equal(\n",
    "    len(ax.patches), 12,\n",
    "    msg=\"Your plot does not have enough data patches.\"\n",
    ")\n",
    "\n",
    "xdata = [a.get_text() for a in ax.get_xticklabels()]\n",
    "ydata = [p.get_height() for p in ax.patches]\n",
    "\n",
    "assert_array_equal(xdata, month_cancelled.index)\n",
    "assert_array_equal(ydata, month_cancelled['Cancelled'])\n",
    "\n",
    "# check if your function can handle other dataframes\n",
    "test_index = [str(i) for i in np.random.randint(20, size=20)]\n",
    "test_data = np.random.randint(20, size=20)\n",
    "test_df = pd.DataFrame(test_data, index=test_index, columns=['test'])\n",
    "\n",
    "ax1 = plot_month_cancelled(test_df)\n",
    "\n",
    "x1data = [a.get_text() for a in ax1.get_xticklabels()]\n",
    "y1data = [p.get_height() for p in ax1.patches]\n",
    "\n",
    "assert_array_equal(x1data, test_index)\n",
    "assert_array_equal(y1data, test_data)\n",
    "\n",
    "plt.close()"
   ]
  },
  {
   "cell_type": "markdown",
   "metadata": {},
   "source": [
    "## Problem 2. Find Best Movies by Genres"
   ]
  },
  {
   "cell_type": "code",
   "execution_count": 15,
   "metadata": {},
   "outputs": [
    {
     "name": "stdout",
     "output_type": "stream",
     "text": [
      "   movieId                               title  \\\n",
      "0        1                    Toy Story (1995)   \n",
      "1        2                      Jumanji (1995)   \n",
      "2        3             Grumpier Old Men (1995)   \n",
      "3        4            Waiting to Exhale (1995)   \n",
      "4        5  Father of the Bride Part II (1995)   \n",
      "\n",
      "                                        genres  \n",
      "0  Adventure|Animation|Children|Comedy|Fantasy  \n",
      "1                   Adventure|Children|Fantasy  \n",
      "2                               Comedy|Romance  \n",
      "3                         Comedy|Drama|Romance  \n",
      "4                                       Comedy  \n",
      "\n",
      "--------------------------------------------------\n",
      "\n",
      "    userId  movieId  rating   timestamp\n",
      "8        1     1339     3.5  1260759125\n",
      "16       1     2294     2.0  1260759108\n",
      "19       1     3671     3.0  1260759117\n",
      "20       2       10     4.0   835355493\n",
      "21       2       17     5.0   835355681\n"
     ]
    }
   ],
   "source": [
    "movies = '/Users/Constance/ml-latest-small/movies.csv'\n",
    "ratings = '/Users/Constance/ml-latest-small/ratings.csv'\n",
    "\n",
    "# construct dataframes\n",
    "mv = pd.read_csv(movies)\n",
    "rt = pd.read_csv(ratings)\n",
    "\n",
    "# filter out movies with less than 50 rating records\n",
    "counts = rt['movieId'].value_counts()\n",
    "rt = rt[rt['movieId'].isin(counts[counts>50].index)]\n",
    "\n",
    "print(mv[:5])\n",
    "print('\\n--------------------------------------------------\\n')\n",
    "print(rt[:5])"
   ]
  },
  {
   "cell_type": "markdown",
   "metadata": {},
   "source": [
    "### 1. Function: find_best_movies_by_genres()"
   ]
  },
  {
   "cell_type": "code",
   "execution_count": 48,
   "metadata": {
    "collapsed": true
   },
   "outputs": [],
   "source": [
    "def find_best_movies_by_genres(mv, rt, genres_type):\n",
    "    '''\n",
    "    Constructs a new pd.DataFrame from mv and rt using groupby(), merge(), \n",
    "    \n",
    "    Parameters\n",
    "    ----------\n",
    "    mv(pd.DataFrame): movie information.\n",
    "    rt(pd.DataFrame): rating information.\n",
    "    genres_type(str): The filename of the CSV file.\n",
    "    \n",
    "    Returns\n",
    "    -------\n",
    "    pd.DataFrame: 3 columns (rating, title, genres), indexed by movieId.\n",
    "    '''\n",
    "    \n",
    "    avrt=rt.groupby(\"movieId\",as_index=False)['rating'].mean()\n",
    "    mvrt=avrt.merge(mv, on='movieId')\n",
    "    new=mvrt[(mvrt['rating']>=4.0)&(mvrt['genres'].str.contains(genres_type))]\n",
    "    result=new.sort_values(by='rating',ascending=False)\n",
    "    return result.set_index('movieId')"
   ]
  },
  {
   "cell_type": "code",
   "execution_count": 49,
   "metadata": {},
   "outputs": [
    {
     "name": "stdout",
     "output_type": "stream",
     "text": [
      "           rating                             title                 genres\n",
      "movieId                                                                   \n",
      "1219     4.253247                     Psycho (1960)           Crime|Horror\n",
      "593      4.138158  Silence of the Lambs, The (1991)  Crime|Horror|Thriller\n",
      "1258     4.029703               Shining, The (1980)                 Horror\n",
      "2762     4.018135           Sixth Sense, The (1999)   Drama|Horror|Mystery\n"
     ]
    }
   ],
   "source": [
    "horror = find_best_movies_by_genres(mv, rt, 'Horror')\n",
    "print(horror)"
   ]
  },
  {
   "cell_type": "code",
   "execution_count": 50,
   "metadata": {},
   "outputs": [
    {
     "data": {
      "text/html": [
       "<div>\n",
       "<style>\n",
       "    .dataframe thead tr:only-child th {\n",
       "        text-align: right;\n",
       "    }\n",
       "\n",
       "    .dataframe thead th {\n",
       "        text-align: left;\n",
       "    }\n",
       "\n",
       "    .dataframe tbody tr th {\n",
       "        vertical-align: top;\n",
       "    }\n",
       "</style>\n",
       "<table border=\"1\" class=\"dataframe\">\n",
       "  <thead>\n",
       "    <tr style=\"text-align: right;\">\n",
       "      <th></th>\n",
       "      <th>rating</th>\n",
       "      <th>title</th>\n",
       "      <th>genres</th>\n",
       "    </tr>\n",
       "    <tr>\n",
       "      <th>movieId</th>\n",
       "      <th></th>\n",
       "      <th></th>\n",
       "      <th></th>\n",
       "    </tr>\n",
       "  </thead>\n",
       "  <tbody>\n",
       "    <tr>\n",
       "      <th>745</th>\n",
       "      <td>4.193548</td>\n",
       "      <td>Wallace &amp; Gromit: A Close Shave (1995)</td>\n",
       "      <td>Animation|Children|Comedy</td>\n",
       "    </tr>\n",
       "    <tr>\n",
       "      <th>5618</th>\n",
       "      <td>4.134921</td>\n",
       "      <td>Spirited Away (Sen to Chihiro no kamikakushi) ...</td>\n",
       "      <td>Adventure|Animation|Fantasy</td>\n",
       "    </tr>\n",
       "    <tr>\n",
       "      <th>1148</th>\n",
       "      <td>4.093333</td>\n",
       "      <td>Wallace &amp; Gromit: The Wrong Trousers (1993)</td>\n",
       "      <td>Animation|Children|Comedy|Crime</td>\n",
       "    </tr>\n",
       "  </tbody>\n",
       "</table>\n",
       "</div>"
      ],
      "text/plain": [
       "           rating                                              title  \\\n",
       "movieId                                                                \n",
       "745      4.193548             Wallace & Gromit: A Close Shave (1995)   \n",
       "5618     4.134921  Spirited Away (Sen to Chihiro no kamikakushi) ...   \n",
       "1148     4.093333        Wallace & Gromit: The Wrong Trousers (1993)   \n",
       "\n",
       "                                  genres  \n",
       "movieId                                   \n",
       "745            Animation|Children|Comedy  \n",
       "5618         Adventure|Animation|Fantasy  \n",
       "1148     Animation|Children|Comedy|Crime  "
      ]
     },
     "execution_count": 50,
     "metadata": {},
     "output_type": "execute_result"
    }
   ],
   "source": [
    "find_best_movies_by_genres(mv, rt, 'Animation')"
   ]
  }
 ],
 "metadata": {
  "kernelspec": {
   "display_name": "Python 3",
   "language": "python",
   "name": "python3"
  },
  "language_info": {
   "codemirror_mode": {
    "name": "ipython",
    "version": 3
   },
   "file_extension": ".py",
   "mimetype": "text/x-python",
   "name": "python",
   "nbconvert_exporter": "python",
   "pygments_lexer": "ipython3",
   "version": "3.6.1"
  }
 },
 "nbformat": 4,
 "nbformat_minor": 2
}
