{
 "cells": [
  {
   "cell_type": "code",
   "execution_count": 69,
   "metadata": {
    "collapsed": true
   },
   "outputs": [],
   "source": [
    "import os\n",
    "import numpy as np\n",
    "import pandas as pd\n",
    "from nose.tools import ok_, assert_equal\n",
    "\n",
    "import warnings\n",
    "warnings.filterwarnings(\"ignore\")"
   ]
  },
  {
   "cell_type": "code",
   "execution_count": 74,
   "metadata": {
    "collapsed": true
   },
   "outputs": [],
   "source": [
    "fixed_df = pd.read_csv('~/w7p3/2001.csv', encoding='latin-1', usecols=['Year'])"
   ]
  },
  {
   "cell_type": "markdown",
   "metadata": {},
   "source": [
    "## Problem 1"
   ]
  },
  {
   "cell_type": "markdown",
   "metadata": {},
   "source": [
    "### Function: get_column()"
   ]
  },
  {
   "cell_type": "code",
   "execution_count": 75,
   "metadata": {
    "collapsed": true
   },
   "outputs": [],
   "source": [
    "def get_column(filename, column):\n",
    "    '''\n",
    "    Reads the specified column of airline on-time performance CSV file,\n",
    "    which is in 'latin-1' encoding.\n",
    "    Returns a Pandas DataFrame with only one column.\n",
    "    \n",
    "    Parameters\n",
    "    ----------\n",
    "    filename(str): The file name.\n",
    "    column(str): The column header.\n",
    "    \n",
    "    Returns\n",
    "    -------\n",
    "    A pandas.DataFrame object that has only column.\n",
    "    \n",
    "    Examples\n",
    "    --------\n",
    "    arr_delay = get_column('/home/data_scientist/data/2001.csv', 'ArrDelay')\n",
    "    '''\n",
    "    \n",
    "    df=pd.read_csv(filename, encoding='latin-1', usecols=[column])\n",
    "    return df"
   ]
  },
  {
   "cell_type": "code",
   "execution_count": 77,
   "metadata": {
    "collapsed": true
   },
   "outputs": [],
   "source": [
    "# header cases\n",
    "ok_(\n",
    "    get_column('~/w7p3/test.header.csv', 'Year').equals(\n",
    "        pd.DataFrame(data=[2001] * 4, columns=['Year'])\n",
    "    ))\n",
    "ok_(\n",
    "    get_column('~/w7p3/test.header.csv', 'DayofMonth').equals(\n",
    "        pd.DataFrame(data=list(range(17, 21)), columns=['DayofMonth'])\n",
    "    ))\n",
    "ok_(\n",
    "    get_column('~/w7p3/test.header.csv', 'DepTime').equals(\n",
    "        pd.DataFrame(data=[1806, 1805, 1821, 1807], columns=['DepTime'])\n",
    "    ))\n",
    "ok_(\n",
    "    get_column('~/w7p3/test.header.csv', 'SecurityDelay').equals(\n",
    "        pd.DataFrame(data=[np.nan] * 4, columns=['SecurityDelay'])\n",
    "    ))\n",
    "ok_(\n",
    "    get_column('~/w7p3/test.header.csv', 'LateAircraftDelay').equals(\n",
    "        pd.DataFrame(data=[1, 1, np.nan, np.nan], columns=['LateAircraftDelay'])\n",
    "    ))\n"
   ]
  },
  {
   "cell_type": "markdown",
   "metadata": {},
   "source": [
    "### Function: get_stats()"
   ]
  },
  {
   "cell_type": "code",
   "execution_count": 94,
   "metadata": {
    "collapsed": true
   },
   "outputs": [],
   "source": [
    "def get_stats(df, column):\n",
    "    '''\n",
    "    Calculates the mininum, maximum, mean, and median values\n",
    "    of a column from a Pandas DataFrame object.\n",
    "    \n",
    "    Parameters\n",
    "    ----------\n",
    "    df(pandas.DataFrame): A Pandas DataFrame.\n",
    "    column(str): The column header.\n",
    "    \n",
    "    Returns\n",
    "    -------\n",
    "    minimum(float)\n",
    "    maximum(float)\n",
    "    mean(float)\n",
    "    median(float)\n",
    "    '''\n",
    "    \n",
    "    a=df[column].min()\n",
    "    b=df[column].max()\n",
    "    c=df[column].mean()\n",
    "    d=df[column].median()\n",
    "    return (a,b,c,d)"
   ]
  },
  {
   "cell_type": "code",
   "execution_count": 91,
   "metadata": {
    "collapsed": true
   },
   "outputs": [],
   "source": [
    "data1 = {\n",
    "    'A': [0, 1, 2, 3, 4],\n",
    "    'B': [1, 2, 3, 4, np.nan], # append NaN since we need same number of elements\n",
    "    'C': [4, 3, 2, 1, 0],\n",
    "    'D': [4, 1, 0, 2, 3]\n",
    "    }\n",
    "df1= pd.DataFrame(data1)"
   ]
  },
  {
   "cell_type": "code",
   "execution_count": 96,
   "metadata": {
    "collapsed": true
   },
   "outputs": [],
   "source": [
    "import warnings\n",
    "warnings.filterwarnings(\"ignore\")\n",
    "data1 = {\n",
    "    'A': [0, 1, 2, 3, 4],\n",
    "    'B': [1, 2, 3, 4, np.nan], # append NaN since we need same number of elements\n",
    "    'C': [4, 3, 2, 1, 0],\n",
    "    'D': [4, 1, 0, 2, 3]\n",
    "    }\n",
    "df1= pd.DataFrame(data1)\n",
    "\n",
    "assert_equal(get_stats(df1, 'A'), (0, 4, 2, 2))\n",
    "assert_equal(get_stats(df1, 'B'), (1, 4, 2.5, 2.5))\n",
    "assert_equal(get_stats(df1, 'C'), (0, 4, 2, 2))\n",
    "assert_equal(get_stats(df1, 'D'), (0, 4, 2, 2))\n",
    "\n",
    "data2 = {\n",
    "    'E': np.append(np.arange(51), np.nan), # append NaN since we need same number of elements\n",
    "    'F': np.arange(52)\n",
    "}\n",
    "df2 = pd.DataFrame(data2)\n",
    "\n",
    "assert_equal(get_stats(df2, 'E'), (0, 50, 25.0, 25.0))\n",
    "assert_equal(get_stats(df2, 'F'), (0, 51, 25.5, 25.5))\n",
    "\n",
    "# shuffle rows in df2\n",
    "df3 = df2.reindex(np.random.permutation(df2.index))\n",
    "assert_equal(get_stats(df2, 'E'), (0, 50, 25.0, 25.0))\n",
    "assert_equal(get_stats(df2, 'F'), (0, 51, 25.5, 25.5))"
   ]
  }
 ],
 "metadata": {
  "kernelspec": {
   "display_name": "Python 3",
   "language": "python",
   "name": "python3"
  },
  "language_info": {
   "codemirror_mode": {
    "name": "ipython",
    "version": 3
   },
   "file_extension": ".py",
   "mimetype": "text/x-python",
   "name": "python",
   "nbconvert_exporter": "python",
   "pygments_lexer": "ipython3",
   "version": "3.6.1"
  }
 },
 "nbformat": 4,
 "nbformat_minor": 2
}
