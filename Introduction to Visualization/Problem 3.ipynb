{
 "cells": [
  {
   "cell_type": "markdown",
   "metadata": {},
   "source": [
    "## Problem 3"
   ]
  },
  {
   "cell_type": "code",
   "execution_count": 6,
   "metadata": {
    "collapsed": true
   },
   "outputs": [],
   "source": [
    "%matplotlib inline\n",
    "\n",
    "# plotting tools\n",
    "import matplotlib as mpl\n",
    "import matplotlib.pyplot as plt\n",
    "import numpy as np\n",
    "import seaborn as sns\n",
    "sns.set_style(\"whitegrid\")\n",
    "\n",
    "# testing tools\n",
    "from nose.tools import assert_equal, assert_is_instance, assert_is_not\n",
    "from numpy.testing import assert_array_equal"
   ]
  },
  {
   "cell_type": "code",
   "execution_count": 5,
   "metadata": {},
   "outputs": [
    {
     "name": "stdout",
     "output_type": "stream",
     "text": [
      " 5967781\r\n"
     ]
    }
   ],
   "source": [
    "!cat ~/2001.csv | wc -l"
   ]
  },
  {
   "cell_type": "code",
   "execution_count": 8,
   "metadata": {},
   "outputs": [
    {
     "name": "stdout",
     "output_type": "stream",
     "text": [
      "Year,Month,DayofMonth,DayOfWeek,DepTime,CRSDepTime,ArrTime,CRSArrTime,UniqueCarrier,FlightNum,TailNum,ActualElapsedTime,CRSElapsedTime,AirTime,ArrDelay,DepDelay,Origin,Dest,Distance,TaxiIn,TaxiOut,Cancelled,CancellationCode,Diverted,CarrierDelay,WeatherDelay,NASDelay,SecurityDelay,LateAircraftDelay\r\n",
      "2001,1,11,4,2205,2215,2255,2315,US,416,N514A�,50,60,33,-20,-10,PIT,IAD,183,6,11,0,NA,0,NA,NA,NA,NA,NA\r\n",
      "2001,1,3,3,753,745,841,838,US,446,N891��,48,53,37,3,8,PIT,BUF,186,3,8,0,NA,0,NA,NA,NA,NA,NA\r\n",
      "2001,1,25,4,716,720,828,839,US,479,N122��,72,79,57,-11,-4,RDU,PHL,336,4,11,0,NA,0,NA,NA,NA,NA,NA\r\n",
      "2001,1,8,1,1342,1340,1518,1519,US,507,N606A�,96,99,82,-1,2,CLT,TPA,508,4,10,0,NA,0,NA,NA,NA,NA,NA\r\n",
      "2001,1,20,6,NA,1330,NA,1433,US,534,�NKNO�,NA,123,NA,NA,NA,CLT,STL,575,0,0,1,NA,0,NA,NA,NA,NA,NA\r\n",
      "2001,1,6,6,951,945,1134,1128,US,566,N340��,103,103,74,6,6,CLT,IND,428,7,22,0,NA,0,NA,NA,NA,NA,NA\r\n",
      "2001,1,28,7,1515,1520,1627,1640,US,603,N765��,72,80,57,-13,-5,RDU,PIT,328,7,8,0,NA,0,NA,NA,NA,NA,NA\r\n",
      "2001,1,7,7,1110,1110,1256,1258,US,665,N825��,106,108,90,-2,0,CLT,PBI,590,4,12,0,NA,0,NA,NA,NA,NA,NA\r\n",
      "2001,1,4,4,1136,1135,1254,1251,US,715,N353��,78,76,52,3,1,PIT,IND,325,10,16,0,NA,0,NA,NA,NA,NA,NA\r\n"
     ]
    }
   ],
   "source": [
    "!mkdir -p ~/w7p3/ \n",
    "! awk 'NR == 1 || NR % 1000 == 0' ~/2001.csv >~/w7p3/2001.csv \n",
    "!head ~/w7p3/2001.csv"
   ]
  },
  {
   "cell_type": "code",
   "execution_count": 12,
   "metadata": {},
   "outputs": [
    {
     "name": "stdout",
     "output_type": "stream",
     "text": [
      "    5968\r\n"
     ]
    }
   ],
   "source": [
    "!cat ~/w7p3/2001.csv | wc -l"
   ]
  },
  {
   "cell_type": "code",
   "execution_count": 3,
   "metadata": {
    "collapsed": true
   },
   "outputs": [],
   "source": [
    "def get_columns(filepath, n1, n2, header=True):\n",
    "    '''\n",
    "    Returns two integer lists from reading the specified two columns in the CSV file.\n",
    "\n",
    "    Parameters\n",
    "    __________\n",
    "    filepath (str): Input file path. The file is assumed to be in a \n",
    "                    Comma Separated Values (CSV) format with latin-1 encoding.\n",
    "    n1 (int): Column number. The first column starts at 0. The column must be\n",
    "             a list of integers.\n",
    "    n2 (int): Another column number.\n",
    "    '''\n",
    "    \n",
    "    col1=[]\n",
    "    col2=[]\n",
    "    with open(filepath, 'r',encoding='latin-1') as f:\n",
    "        if header==True:\n",
    "            for line in f.readlines()[1:]:\n",
    "                line = line.strip()\n",
    "                i=line.split(\",\")[n1]\n",
    "                j=line.split(\",\")[n2]\n",
    "                if 'NA' not in i and 'NA' not in j:\n",
    "                    col1.append(int(i))\n",
    "                    col2.append(int(j))\n",
    "            return col1,col2\n",
    "        else:\n",
    "            for line in f.readlines():\n",
    "                line = line.strip()\n",
    "                i=line.split(\",\")[n1]\n",
    "                j=line.split(\",\")[n2]\n",
    "                if 'NA' not in i and 'NA' not in j:\n",
    "                    col1.append(int(i))\n",
    "                    col2.append(int(j))\n",
    "            return col1,col2"
   ]
  },
  {
   "cell_type": "code",
   "execution_count": 12,
   "metadata": {
    "collapsed": true
   },
   "outputs": [],
   "source": [
    "csv_with_header = '''\n",
    "Year,Month,DayofMonth,DayOfWeek,DepTime,CRSDepTime,ArrTime,CRSArrTime,UniqueCarrier,FlightNum,TailNum,ActualElapsedTime,CRSElapsedTime,AirTime,ArrDelay,DepDelay,Origin,Dest,Distance,TaxiIn,TaxiOut,Cancelled,CancellationCode,Diverted,CarrierDelay,WeatherDelay,NASDelay,SecurityDelay,LateAircraftDelay\n",
    "2001,1,17,3,1806,1810,1931,1934,US,375,N700äæ,85,84,60,-3,-4,BWI,CLT,361,5,20,0,NA,0,NA,NA,NA,NA,1\n",
    "2001,1,18,4,1805,1810,1938,1934,US,375,N713äæ,93,84,64,4,-5,BWI,CLT,361,9,20,0,NA,0,NA,NA,NA,NA,1\n",
    "2001,1,19,5,1821,1810,1957,1934,US,375,N702äæ,96,84,80,23,11,BWI,CLT,361,6,10,0,NA,0,NA,NA,NA,NA,NA\n",
    "2001,1,20,6,1807,1810,1944,1934,US,375,N701äæ,97,84,66,10,-3,BWI,CLT,361,4,27,0,NA,0,NA,NA,NA,NA,NA\n",
    "'''.strip().encode('latin-1')\n",
    "\n",
    "csv_no_header = '''\n",
    "2001,1,17,3,1806,1810,1931,1934,US,375,N700äæ,85,84,60,-3,-4,BWI,CLT,361,5,20,0,NA,0,NA,NA,NA,NA,1\n",
    "2001,1,18,4,1805,1810,1938,1934,US,375,N713äæ,93,84,64,4,-5,BWI,CLT,361,9,20,0,NA,0,NA,NA,NA,NA,1\n",
    "2001,1,19,5,1821,1810,1957,1934,US,375,N702äæ,96,84,80,23,11,BWI,CLT,361,6,10,0,NA,0,NA,NA,NA,NA,NA\n",
    "2001,1,20,6,1807,1810,1944,1934,US,375,N701äæ,97,84,66,10,-3,BWI,CLT,361,4,27,0,NA,0,NA,NA,NA,NA,NA\n",
    "2001,1,21,7,1810,1810,1954,1934,US,375,N768äæ,104,84,62,20,0,BWI,CLT,361,4,38,0,NA,0,NA,NA,NA,NA,1\n",
    "'''.strip().encode('latin-1')\n",
    "\n",
    "with open('w7p3/test.header.csv', 'wb') as f:\n",
    "    f.write(csv_with_header)\n",
    "    \n",
    "with open('w7p3/test.noheader.csv', 'wb') as f:\n",
    "    f.write(csv_no_header)"
   ]
  },
  {
   "cell_type": "code",
   "execution_count": 11,
   "metadata": {
    "collapsed": true
   },
   "outputs": [],
   "source": [
    "# assertions for header=True\n",
    "assert_equal(get_columns('w7p3/test.header.csv', 1, 2, header=True), ([1]*4, list(range(17, 21))))\n",
    "assert_equal(get_columns('w7p3/test.header.csv', 4, 28, header=True), ([1806, 1805], [1]*2))\n",
    "assert_equal(get_columns('w7p3/test.header.csv', 3, 27, header=True), ([], []))\n",
    "assert_equal(get_columns('w7p3/test.header.csv', 0, 12, header=True), ([2001]*4, [84]*4))\n",
    "\n",
    "# assertions for header=False\n",
    "assert_equal(get_columns('w7p3/test.noheader.csv', 1, 2, header=False), ([1]*5, list(range(17, 22))))\n",
    "assert_equal(get_columns('w7p3/test.noheader.csv', 4, 28, header=False), ([1806, 1805, 1810], [1]*3))\n",
    "assert_equal(get_columns('w7p3/test.noheader.csv', 3, 27, header=False), ([], []))\n",
    "assert_equal(get_columns('w7p3/test.noheader.csv', 0, 12, header=False), ([2001]*5, [84]*5))"
   ]
  },
  {
   "cell_type": "code",
   "execution_count": 15,
   "metadata": {
    "collapsed": true
   },
   "outputs": [],
   "source": [
    "time,distance=get_columns('w7p3/2001.csv', 11, 18, header=True)"
   ]
  },
  {
   "cell_type": "code",
   "execution_count": 18,
   "metadata": {
    "collapsed": true
   },
   "outputs": [],
   "source": [
    "# assertions\n",
    "assert_equal(len(distance), 5720)\n",
    "assert_equal(len(time), 5720)\n",
    "assert_equal(distance[:20], [183, 186, 336, 508, 428, 328, 590, 325, 331, 813, 546, 678, 298, 280, 678, 966, 130, 675, 279, 599])\n",
    "assert_equal(distance[5700:], [643, 667, 781, 316, 1628, 1035, 406, 1199, 1547, 110, 874, 270, 1587, 272, 932, 745, 2116, 190, 761, 547])\n",
    "assert_equal(time[:20], [50, 48, 72, 96, 103, 72, 106, 78, 66, 175, 93, 141, 81, 86, 128, 204, 48, 126, 66, 100])\n",
    "assert_equal(time[5700:], [104, 143, 132, 70, 230, 153, 99, 165, 212, 57, 127, 64, 244, 71, 138, 146, 261, 63, 174, 105])"
   ]
  },
  {
   "cell_type": "code",
   "execution_count": 38,
   "metadata": {
    "collapsed": true
   },
   "outputs": [],
   "source": [
    "def make_scatter_plot(x, y):\n",
    "    \"\"\"\n",
    "    Creates a two-dimensional scatter plot.\n",
    "    \n",
    "    Parameters\n",
    "    ----------\n",
    "    x: A list of integers. Data points for the x-axis.\n",
    "    y: A list of integers. Data poitns for the y-axis.\n",
    "    \n",
    "    Returns\n",
    "    -------\n",
    "    A matplotlib.Axes object.\n",
    "    \"\"\"\n",
    "    \n",
    "    fig, ax = plt.subplots()\n",
    "    np.asarray(x)\n",
    "    np.asarray(y)\n",
    "    ax.scatter(x, y)\n",
    "    ax.set_xlabel(\"X Axis\")\n",
    "    ax.set_ylabel(\"Y Axis\")\n",
    "    ax.set_title('Scatter Plot')\n",
    "    return ax"
   ]
  },
  {
   "cell_type": "code",
   "execution_count": 39,
   "metadata": {},
   "outputs": [
    {
     "data": {
      "image/png": "[encoded data removed]",
      "text/plain": [
       "<matplotlib.figure.Figure at 0x115626320>"
      ]
     },
     "metadata": {},
     "output_type": "display_data"
    }
   ],
   "source": [
    "ax = make_scatter_plot(time, distance)"
   ]
  },
  {
   "cell_type": "code",
   "execution_count": 40,
   "metadata": {
    "collapsed": true
   },
   "outputs": [],
   "source": [
    "# assertions\n",
    "assert_is_instance(\n",
    "    ax, mpl.axes.Axes,\n",
    "    msg=\"Your function should return a matplotlib.axes.Axes object.\"\n",
    ")\n",
    "\n",
    "assert_equal(\n",
    "    len(ax.collections), 1,\n",
    "    msg=\"Your plot does not have any data points.\"\n",
    ")\n",
    "\n",
    "assert_is_not(\n",
    "    len(ax.title.get_text()), 0,\n",
    "    msg=\"Your plot doesn't have a title.\"\n",
    ")\n",
    "assert_is_not(\n",
    "    ax.xaxis.get_label_text(), '',\n",
    "    msg=\"Change the x-axis label to something more descriptive.\"\n",
    ")\n",
    "assert_is_not(\n",
    "    ax.yaxis.get_label_text(), '',\n",
    "    msg=\"Change the y-axis label to something more descriptive.\"\n",
    ")\n",
    "    \n",
    "xdata, ydata = ax.collections[0].get_offsets().T\n",
    "assert_array_equal(xdata, time)\n",
    "assert_array_equal(ydata, distance)\n",
    "\n",
    "# If your function can only plot the delays and\n",
    "# cannot handle other data sets, the following test will fail.\n",
    "x1 = np.random.randint(100, size=100)\n",
    "y1 = np.random.randint(100, size=100)\n",
    "\n",
    "ax1 = make_scatter_plot(x1, y1)\n",
    "\n",
    "x1data, y1data = ax1.collections[0].get_offsets().T\n",
    "assert_array_equal(x1, x1data)\n",
    "assert_array_equal(y1, y1data)\n",
    "\n",
    "plt.close()"
   ]
  }
 ],
 "metadata": {
  "kernelspec": {
   "display_name": "Python 3",
   "language": "python",
   "name": "python3"
  },
  "language_info": {
   "codemirror_mode": {
    "name": "ipython",
    "version": 3
   },
   "file_extension": ".py",
   "mimetype": "text/x-python",
   "name": "python",
   "nbconvert_exporter": "python",
   "pygments_lexer": "ipython3",
   "version": "3.6.1"
  }
 },
 "nbformat": 4,
 "nbformat_minor": 2
}
