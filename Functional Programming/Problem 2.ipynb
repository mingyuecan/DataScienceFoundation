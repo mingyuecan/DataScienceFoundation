{
 "cells": [
  {
   "cell_type": "markdown",
   "metadata": {
    "collapsed": true
   },
   "source": [
    "## Problem 2"
   ]
  },
  {
   "cell_type": "code",
   "execution_count": 1,
   "metadata": {
    "collapsed": true
   },
   "outputs": [],
   "source": [
    "from nose.tools import assert_equal, assert_almost_equal\n",
    "from numpy.testing import assert_array_almost_equal, assert_array_equal\n",
    "import numpy as np\n",
    "from functools import reduce"
   ]
  },
  {
   "cell_type": "code",
   "execution_count": 133,
   "metadata": {
    "collapsed": true
   },
   "outputs": [],
   "source": [
    "def to_kelvin(temps, c_or_f):\n",
    "    '''\n",
    "    Takes a list and a string that is either \"cel\" or \"far\".\n",
    "    Returns a list of temperatures converted to Kelvin.\n",
    "    \n",
    "    Parameters\n",
    "    ----------\n",
    "    temps: A list\n",
    "    c_or_f: A string.\n",
    "    \n",
    "    Returns\n",
    "    -------\n",
    "    A list.\n",
    "    '''\n",
    "    \n",
    "    f=lambda x: x+273.15 \n",
    "    j=lambda x: 5/9*(x-32)+273.15\n",
    "    if c_or_f=='cel':\n",
    "        result=[i for i in list(map(f,temps))]\n",
    "    elif c_or_f=='far':\n",
    "        result=[i for i in list(map(j,temps))]\n",
    "    return result"
   ]
  },
  {
   "cell_type": "code",
   "execution_count": 136,
   "metadata": {
    "collapsed": true
   },
   "outputs": [],
   "source": [
    "Far = [102, 97.7, 99.14, 100.4, 100.04, -40, 68.5, 32, 0, 75]\n",
    "assert_array_almost_equal(to_kelvin(Far,'far'), \n",
    "                          [312.0388888888889, 309.65, 310.45, 311.15, 310.95, 233.14999999999998, 293.42777777777775, 273.15, 255.3722222222222, 297.0388888888889], \n",
    "                          decimal = 3)\n",
    "assert_equal(len(to_kelvin(Far,'far')), len(Far))\n",
    "\n",
    "assert_array_almost_equal(to_kelvin([1,2,3,4],'far'),\n",
    "                         [255.92777777777775, 256.4833333333333, 257.0388888888889, 257.59444444444443],\n",
    "                         decimal = 3)\n",
    "Cel = [30.5, 42, 53.78, 2.01, -40.00, -20.56, 0, 32, 14.5]\n",
    "assert_array_almost_equal(to_kelvin(Cel,'cel'), \n",
    "                          [303.65, 315.15, 326.92999999999995, 275.15999999999997, 233.14999999999998, 252.58999999999997, 273.15, 305.15, 287.65], \n",
    "                          decimal = 3)\n",
    "assert_equal(len(to_kelvin(Cel, 'cel')), len(Cel))\n",
    "\n",
    "assert_array_almost_equal(to_kelvin([1,2,3,4],'cel'),\n",
    "                         [274.15, 275.15, 276.15, 277.15],\n",
    "                         decimal = 2)"
   ]
  },
  {
   "cell_type": "code",
   "execution_count": 137,
   "metadata": {
    "collapsed": true
   },
   "outputs": [],
   "source": [
    "a=[0,1,2,3,4,5,6,7,8,9,10]"
   ]
  },
  {
   "cell_type": "code",
   "execution_count": 139,
   "metadata": {},
   "outputs": [
    {
     "name": "stdout",
     "output_type": "stream",
     "text": [
      "[0, 2, 4, 6, 8, 10]\n"
     ]
    }
   ],
   "source": [
    "print(list(filter(lambda x: x%2==0, a)))"
   ]
  },
  {
   "cell_type": "code",
   "execution_count": 142,
   "metadata": {
    "collapsed": true
   },
   "outputs": [],
   "source": [
    "def sublist(num_list, criteria):\n",
    "    '''\n",
    "    Takes a list and a criteria that is either 'two', 'five', or 'seven'.\n",
    "    Returns a list of numbers that match the criteria given.\n",
    "    \n",
    "    Parameters\n",
    "    ----------\n",
    "    num_list = a list\n",
    "    criteria = a string\n",
    "    \n",
    "    Returns\n",
    "    -------\n",
    "    A list.\n",
    "    '''\n",
    "    \n",
    "    c1=lambda x: x%2==0\n",
    "    c2=lambda x: x%5==0\n",
    "    c3=lambda x: x%7==0\n",
    "    if criteria=='two':\n",
    "        result=[i for i in list(filter(c1, num_list))]\n",
    "    elif criteria=='five':\n",
    "        result=[i for i in list(filter(c2, num_list))]\n",
    "    elif criteria=='seven':\n",
    "        result=[i for i in list(filter(c3, num_list))]\n",
    "    return result"
   ]
  },
  {
   "cell_type": "code",
   "execution_count": 143,
   "metadata": {
    "collapsed": true
   },
   "outputs": [],
   "source": [
    "assert_array_equal(sublist(range(21), \"five\"), [0,5,10,15,20])\n",
    "assert_array_equal(sublist(range(21), \"two\"), [0,2,4,6,8,10,12,14,16,18,20])\n",
    "assert_array_equal(sublist(range(21), \"seven\"), [0,7,14])\n",
    "\n",
    "fib = [1,1,2,3,5,8,13,21,34,55,89]\n",
    "\n",
    "assert_array_equal(sublist(fib, \"five\"), [5,55])\n",
    "assert_array_equal(sublist(fib, \"two\"), [2,8,34])\n",
    "assert_array_equal(sublist(fib, \"seven\"), [21])\n",
    "\n",
    "squ = [1,4,9,16,25,36,49]\n",
    "\n",
    "assert_array_equal(sublist(squ, \"five\"), [25])\n",
    "assert_array_equal(sublist(squ, \"two\"), [4,16,36])\n",
    "assert_array_equal(sublist(squ, \"seven\"), [49])"
   ]
  },
  {
   "cell_type": "code",
   "execution_count": 151,
   "metadata": {
    "collapsed": true
   },
   "outputs": [],
   "source": [
    "def sublist(num_list):\n",
    "    '''\n",
    "    Takes a list of numbers and returns the smallest argument.\n",
    "    \n",
    "    Parameters\n",
    "    ----------\n",
    "    num_list = a list\n",
    "    \n",
    "    Returns\n",
    "    -------\n",
    "    A number.\n",
    "    '''\n",
    "    \n",
    "    f=lambda a,b: a if (a<b) else b\n",
    "    return reduce(f,num_list)"
   ]
  },
  {
   "cell_type": "code",
   "execution_count": 152,
   "metadata": {
    "collapsed": true
   },
   "outputs": [],
   "source": [
    "assert_equal(sublist(range(5,20)), 5)\n",
    "\n",
    "fib = [1,1,2,3,5,8,13,21,34,55,89]\n",
    "assert_equal(sublist(fib), 1)\n",
    "\n",
    "squ = [1,4,9,16,25,36,49]\n",
    "assert_equal(sublist(squ),1)\n",
    "\n",
    "f = np.ndarray.tolist(np.random.randint(-100000, 100000, 25))\n",
    "assert_equal(sublist(f), min(f))\n",
    "\n",
    "g = np.ndarray.tolist(np.random.rand(100000))\n",
    "assert_equal(sublist(g), min(g))\n",
    "\n",
    "h = [4505, 19358, 38437, 42905, 49030, 38037, 49812, 12049, 3443, 38463, 20812, 34606, 46069, 18470, 21422, 18468, 30372, 37250, 10402, 45221, 7938, 34138, 28968, 25111, 38682, 19162, 22387, 28594, 37128, 257, 25515, 44181, 30400, 10328, 7453, 46862, 48531, 47331, 16164, 12907, 11291, 32066, 49055, 20227, 31078, 22199, 32655, 45027, 34102, 9457, 5421, 45664, 28339, 44039, 30423]\n",
    "assert_equal(sublist(h), 257)"
   ]
  }
 ],
 "metadata": {
  "kernelspec": {
   "display_name": "Python 3",
   "language": "python",
   "name": "python3"
  },
  "language_info": {
   "codemirror_mode": {
    "name": "ipython",
    "version": 3
   },
   "file_extension": ".py",
   "mimetype": "text/x-python",
   "name": "python",
   "nbconvert_exporter": "python",
   "pygments_lexer": "ipython3",
   "version": "3.6.1"
  }
 },
 "nbformat": 4,
 "nbformat_minor": 2
}
