{
 "cells": [
  {
   "cell_type": "markdown",
   "metadata": {},
   "source": [
    "## Problem 1"
   ]
  },
  {
   "cell_type": "code",
   "execution_count": 1,
   "metadata": {
    "collapsed": true
   },
   "outputs": [],
   "source": [
    "from nose.tools import assert_equal\n",
    "import numpy as np\n",
    "import pandas as pd\n",
    "from numpy.testing import assert_almost_equal, assert_array_equal"
   ]
  },
  {
   "cell_type": "code",
   "execution_count": 2,
   "metadata": {},
   "outputs": [
    {
     "name": "stdout",
     "output_type": "stream",
     "text": [
      "   ArrDelay  Cancelled  DepDelay  Distance Origin\n",
      "0        -3          0        -4      1050    ORD\n",
      "1         4          0        -5       370    DFW\n",
      "2        23          0        11       228    ATL\n",
      "3        10          0        -3       678    LAX\n",
      "4        20          1         0       873    PHX\n",
      "5        -3          0        -3       472    STL\n",
      "6       -10          1        -8       370    DTW\n",
      "7       -12          0        -6      1182    MSP\n",
      "8        -9          1         2       745    LAS\n",
      "9        -1          1         2       448    BOS\n"
     ]
    }
   ],
   "source": [
    "df = pd.DataFrame({\n",
    "    \"Origin\": ['ORD', 'DFW', 'ATL', 'LAX', 'PHX', 'STL', 'DTW', 'MSP', 'LAS', 'BOS'],\n",
    "    \"Distance\": [1050, 370,  228,  678,  873, 472,  370, 1182,  745,  448],\n",
    "    \"ArrDelay\": [-3,   4,  23,  10,  20, -3, -10, -12,  -9,  -1],\n",
    "    \"DepDelay\": [-4,  -5,  11,  -3,   0, -3,  -8,  -6,   2,   2],\n",
    "    \"Cancelled\": [0, 0, 0, 0, 1, 0, 1, 0, 1, 1]\n",
    "})\n",
    "\n",
    "print(df)"
   ]
  },
  {
   "cell_type": "code",
   "execution_count": 4,
   "metadata": {
    "collapsed": true
   },
   "outputs": [],
   "source": [
    "def get_log10(df, column):\n",
    "    '''\n",
    "    Takes a data frame and a column name.\n",
    "    Returns base-10 log of the specified column.\n",
    "    \n",
    "    Parameters\n",
    "    ----------\n",
    "    df: A pandas data frame.\n",
    "    column: A string.\n",
    "    \n",
    "    Returns\n",
    "    -------\n",
    "    A Pandas Series.\n",
    "    '''\n",
    "    \n",
    "    return df[column].apply(np.log10)"
   ]
  },
  {
   "cell_type": "code",
   "execution_count": 5,
   "metadata": {
    "collapsed": true
   },
   "outputs": [],
   "source": [
    "log_10_distance = get_log10(df, \"Distance\")\n",
    "answer1 = np.array([\n",
    "    3.0211893, 2.56820172, 2.35793485, 2.83122969,  2.94101424,\n",
    "    2.673942, 2.56820172, 3.07261748, 2.87215627, 2.65127801\n",
    "])\n",
    "\n",
    "assert_almost_equal(log_10_distance.values, answer1)"
   ]
  },
  {
   "cell_type": "code",
   "execution_count": 10,
   "metadata": {
    "collapsed": true
   },
   "outputs": [],
   "source": [
    "def get_sum(df, columns):\n",
    "    '''\n",
    "    Takes a Pandas DataFrame as its first argument and a list of columns as its second argument.\n",
    "    Returns a Pandas Series with the sum of the columns listed in \"columns\".\n",
    "    \n",
    "    Parameters\n",
    "    ----------\n",
    "    df: A pandas DataFrame.\n",
    "    columns: A list of strings.\n",
    "    \n",
    "    Returns\n",
    "    -------\n",
    "    A pandas Series.\n",
    "    '''\n",
    "\n",
    "    return df[columns].apply(sum,axis=1)"
   ]
  },
  {
   "cell_type": "code",
   "execution_count": 11,
   "metadata": {
    "collapsed": true
   },
   "outputs": [],
   "source": [
    "# insert assert tests here\n",
    "total_delay = get_sum(df, [\"ArrDelay\", \"DepDelay\"])\n",
    "answer2 = np.array([ -7,  -1,  34,   7,  20,  -6, -18, -18,  -7,   1])\n",
    "assert_almost_equal(answer2, total_delay.values)\n",
    "\n",
    "arr_delay = get_sum(df, [\"ArrDelay\"])\n",
    "answer3 = np.array(df.ArrDelay)\n",
    "assert_almost_equal(answer3, arr_delay.values)"
   ]
  },
  {
   "cell_type": "code",
   "execution_count": 32,
   "metadata": {
    "collapsed": true
   },
   "outputs": [],
   "source": [
    "f = lambda x: x['Origin'] if (x['Cancelled']==1) else 'NA' "
   ]
  },
  {
   "cell_type": "code",
   "execution_count": 27,
   "metadata": {
    "collapsed": true
   },
   "outputs": [],
   "source": [
    "def get_cancelled_origin(s):\n",
    "    if s['Cancelled']==1:\n",
    "        return s['Origin']\n",
    "    else:\n",
    "        return 'NA'"
   ]
  },
  {
   "cell_type": "code",
   "execution_count": 29,
   "metadata": {
    "collapsed": true
   },
   "outputs": [],
   "source": [
    "s = pd.Series({\n",
    "        'foo':'bar',\n",
    "        \"Origin\":'A', \n",
    "        'Cancelled': 1\n",
    "          })\n",
    "assert_equal(\"A\", get_cancelled_origin(s))\n",
    "\n",
    "s = pd.Series({\n",
    "        'foo':'bar',\n",
    "        \"Origin\":'A', \n",
    "        'Cancelled': 0\n",
    "          })\n",
    "\n",
    "assert_equal(\"NA\", get_cancelled_origin(s))\n",
    "\n",
    "s = pd.Series({\n",
    "        'foo':'bar',\n",
    "        \"Origin\":'A', \n",
    "        'Cancelled': -1\n",
    "          })\n",
    "\n",
    "assert_equal(\"NA\", get_cancelled_origin(s))"
   ]
  },
  {
   "cell_type": "code",
   "execution_count": 36,
   "metadata": {},
   "outputs": [
    {
     "data": {
      "text/plain": [
       "0     NA\n",
       "1     NA\n",
       "2     NA\n",
       "3     NA\n",
       "4    PHX\n",
       "5     NA\n",
       "6    DTW\n",
       "7     NA\n",
       "8    LAS\n",
       "9    BOS\n",
       "dtype: object"
      ]
     },
     "execution_count": 36,
     "metadata": {},
     "output_type": "execute_result"
    }
   ],
   "source": [
    "df.apply(get_cancelled_origin,axis=1)"
   ]
  },
  {
   "cell_type": "code",
   "execution_count": 46,
   "metadata": {
    "collapsed": true
   },
   "outputs": [],
   "source": [
    "def apply_userdefined_func(df, f, axis=1):\n",
    "    '''\n",
    "    Generic wrapper to apply a function to a dataframe on a given axis\n",
    "    \n",
    "    Parameters\n",
    "    ----------\n",
    "    df: A pandas DataFrame.\n",
    "    f: A function to apply\n",
    "    axis: the axis argument to pass to pd.DataFrame.apply()\n",
    "    \n",
    "    Returns\n",
    "    -------\n",
    "    A pandas Series.\n",
    "    '''\n",
    "    \n",
    "    result=df.apply(f,axis)\n",
    "    return result"
   ]
  },
  {
   "cell_type": "code",
   "execution_count": 47,
   "metadata": {
    "collapsed": true
   },
   "outputs": [],
   "source": [
    "ans4 = pd.Series(\n",
    "    [\"NA\", \"NA\", \"NA\", \"NA\", \"PHX\", \"NA\", \"DTW\", \"NA\", \"LAS\", \"BOS\"]\n",
    "    )\n",
    "assert_array_equal(ans4, apply_userdefined_func(df, get_cancelled_origin).values)\n",
    "\n",
    "\n",
    "df2 = df.drop('Origin', axis=1)\n",
    "f = lambda x: (np.mean(x) + 1 )\n",
    "ans5 = pd.Series(\n",
    "    [261.75, 93.25, 66.50, 172.25, 224.50,\n",
    "    117.5, 89.25, 292.0, 185.75, 113.5]\n",
    ")\n",
    "assert_almost_equal(ans5, apply_userdefined_func(df2, f, axis=1).values)"
   ]
  },
  {
   "cell_type": "code",
   "execution_count": 48,
   "metadata": {},
   "outputs": [
    {
     "data": {
      "text/plain": [
       "ArrDelay      (-21.362845913602232, 25.16284591360223)\n",
       "Cancelled    (-0.5797958971132712, 1.3797958971132713)\n",
       "DepDelay      (-11.761467077590895, 8.961467077590894)\n",
       "Distance      (38.531711992746295, 1244.6682880072538)\n",
       "dtype: object"
      ]
     },
     "execution_count": 48,
     "metadata": {},
     "output_type": "execute_result"
    }
   ],
   "source": [
    "df2 = df.drop('Origin', axis=1)\n",
    "f = lambda x: (np.mean(x) - 2 * np.std(x), np.mean(x) + 2 * np.std(x))\n",
    "apply_userdefined_func(df2, f, axis=0)"
   ]
  }
 ],
 "metadata": {
  "kernelspec": {
   "display_name": "Python 3",
   "language": "python",
   "name": "python3"
  },
  "language_info": {
   "codemirror_mode": {
    "name": "ipython",
    "version": 3
   },
   "file_extension": ".py",
   "mimetype": "text/x-python",
   "name": "python",
   "nbconvert_exporter": "python",
   "pygments_lexer": "ipython3",
   "version": "3.6.1"
  }
 },
 "nbformat": 4,
 "nbformat_minor": 2
}
