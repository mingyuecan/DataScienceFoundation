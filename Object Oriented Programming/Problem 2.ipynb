{
 "cells": [
  {
   "cell_type": "code",
   "execution_count": 1,
   "metadata": {
    "collapsed": true
   },
   "outputs": [],
   "source": [
    "from nose.tools import assert_equal"
   ]
  },
  {
   "cell_type": "markdown",
   "metadata": {},
   "source": [
    "### Problem 2.1"
   ]
  },
  {
   "cell_type": "code",
   "execution_count": 55,
   "metadata": {
    "collapsed": true
   },
   "outputs": [],
   "source": [
    "class Weather:\n",
    "    \"\"\"\n",
    "    A class for representing Weather\n",
    "    \n",
    "    attributes: inch, ft, temp\n",
    "    \"\"\""
   ]
  },
  {
   "cell_type": "markdown",
   "metadata": {},
   "source": [
    "### Problem 2.2"
   ]
  },
  {
   "cell_type": "code",
   "execution_count": 79,
   "metadata": {
    "collapsed": true
   },
   "outputs": [],
   "source": [
    "def return_Weather(w):\n",
    "    '''\n",
    "    Takes a Weather object and returns the data contained within as a tuple\n",
    "    \n",
    "    Parameters\n",
    "    ----------\n",
    "    w: a weather object\n",
    "    \n",
    "    Returns\n",
    "    -------\n",
    "    a tuple\n",
    "    '''\n",
    "    return (w.inch, w.ft, w.temp)"
   ]
  },
  {
   "cell_type": "code",
   "execution_count": 81,
   "metadata": {
    "collapsed": true
   },
   "outputs": [],
   "source": [
    "urbana = Weather()\n",
    "urbana.inch = 3\n",
    "urbana.ft = 4\n",
    "urbana.temp = 48\n",
    "\n",
    "assert_equal(return_Weather(urbana) , (3, 4, 48))\n",
    "\n",
    "amazon = Weather()\n",
    "amazon.inch = 7\n",
    "amazon.ft = 9\n",
    "amazon.temp = 87\n",
    "\n",
    "assert_equal(return_Weather(amazon), (7, 9, 87))"
   ]
  },
  {
   "cell_type": "code",
   "execution_count": 100,
   "metadata": {},
   "outputs": [
    {
     "data": {
      "text/plain": [
       "{'ft': 5, 'inch': 10, 'temp': 48}"
      ]
     },
     "execution_count": 100,
     "metadata": {},
     "output_type": "execute_result"
    }
   ],
   "source": [
    "urbana.__dict__"
   ]
  },
  {
   "cell_type": "markdown",
   "metadata": {},
   "source": [
    "### Problem 2.3"
   ]
  },
  {
   "cell_type": "code",
   "execution_count": 87,
   "metadata": {
    "collapsed": true
   },
   "outputs": [],
   "source": [
    "def fix_inch(w):\n",
    "    '''\n",
    "    Takes a weather object and changes the \"inch\" attribute so that it does\n",
    "    not contain 12 or more inches in it, modifying the \"ft\" attribute in the \n",
    "    process.  It then returns the weather object.\n",
    "    \n",
    "    Parameters\n",
    "    ----------\n",
    "    a Weather object\n",
    "    \n",
    "    Returns\n",
    "    -------\n",
    "    a Weather object\n",
    "    '''\n",
    "    \n",
    "    if w.inch>=12:\n",
    "        w.ft+=w.inch//12\n",
    "        w.inch=w.inch%12\n",
    "    return w"
   ]
  },
  {
   "cell_type": "code",
   "execution_count": 90,
   "metadata": {
    "collapsed": true
   },
   "outputs": [],
   "source": [
    "champaign = Weather()\n",
    "champaign.inch = 40\n",
    "champaign.ft = 4\n",
    "champaign.temp = 48\n",
    "assert_equal(return_Weather(fix_inch(champaign)), (4, 7, 48))\n",
    "\n",
    "athens = Weather()\n",
    "athens.inch = 32\n",
    "athens.ft = 1\n",
    "athens.temp = 56\n",
    "assert_equal(return_Weather(fix_inch(athens)), (8, 3, 56))"
   ]
  },
  {
   "cell_type": "markdown",
   "metadata": {},
   "source": [
    "### Problem 2.4"
   ]
  },
  {
   "cell_type": "code",
   "execution_count": 91,
   "metadata": {
    "collapsed": true
   },
   "outputs": [],
   "source": [
    "def add_dat(w, inch, feet, temp):\n",
    "    '''\n",
    "    Adds inches and feet to a weather object, and changes the temperature of the \n",
    "    weather object to a new temperature.\n",
    "    \n",
    "    Parameters\n",
    "    ----------\n",
    "    w: a weather object\n",
    "    inch: an integer\n",
    "    feet: an integer\n",
    "    temp: an integer\n",
    "    \n",
    "    Returns\n",
    "    -------\n",
    "    A Weather object\n",
    "    '''\n",
    "    \n",
    "    w.inch+=inch\n",
    "    w.ft+=feet\n",
    "    w.temp=temp\n",
    "    return fix_inch(w)"
   ]
  },
  {
   "cell_type": "code",
   "execution_count": null,
   "metadata": {
    "collapsed": true
   },
   "outputs": [],
   "source": [
    "assert_equal(return_Weather(add_dat(athens, 1, 0, 57)), (9, 3, 57))\n",
    "assert_equal(return_Weather(add_dat(urbana, 7, 1, 48)), (10, 5, 48))\n",
    "assert_equal(return_Weather(add_dat(amazon, 13, 0, 101)), (8, 10, 101))\n",
    "assert_equal(return_Weather(add_dat(champaign, 6, 0, 0)), (10, 7, 0))"
   ]
  }
 ],
 "metadata": {
  "kernelspec": {
   "display_name": "Python 3",
   "language": "python",
   "name": "python3"
  },
  "language_info": {
   "codemirror_mode": {
    "name": "ipython",
    "version": 3
   },
   "file_extension": ".py",
   "mimetype": "text/x-python",
   "name": "python",
   "nbconvert_exporter": "python",
   "pygments_lexer": "ipython3",
   "version": "3.6.1"
  }
 },
 "nbformat": 4,
 "nbformat_minor": 2
}
