{
 "cells": [
  {
   "cell_type": "markdown",
   "metadata": {},
   "source": [
    "### Problem 3.1 Classes and Methods"
   ]
  },
  {
   "cell_type": "code",
   "execution_count": 1,
   "metadata": {
    "collapsed": true
   },
   "outputs": [],
   "source": [
    "import numpy as np\n",
    "import pandas as pd\n",
    "from nose.tools import assert_equal"
   ]
  },
  {
   "cell_type": "code",
   "execution_count": 2,
   "metadata": {
    "collapsed": true
   },
   "outputs": [],
   "source": [
    "CSV_PATH = \"/Users/Constance/data/2001/2001-1.csv\""
   ]
  },
  {
   "cell_type": "code",
   "execution_count": 3,
   "metadata": {
    "collapsed": true
   },
   "outputs": [],
   "source": [
    "columns=[\"Year\", \"Month\", \"DayofMonth\", \"DepTime\", \"ArrTime\", \"Origin\", \"Dest\"]\n",
    "df = pd.read_csv(CSV_PATH, encoding=\"latin-1\", usecols=columns)\n",
    "df = df.dropna().reset_index(drop=True)"
   ]
  },
  {
   "cell_type": "code",
   "execution_count": 4,
   "metadata": {
    "collapsed": true
   },
   "outputs": [],
   "source": [
    "class OneFlight(object):\n",
    "    '''\n",
    "    Represents a row (one flight) from an airline on-time performance csv file.\n",
    "    \n",
    "    Attributes\n",
    "    ----------\n",
    "    data: A Pandas Series. If the series is not empty, it has the following labels:\n",
    "          \"Year\", \"Month\", \"DayofMonth\", \"DepTime\", \"ArrTime\", \"Origin\", \"Dest\"\n",
    "         \n",
    "    Methods\n",
    "    -------\n",
    "    __init__: Constructor.\n",
    "    __str__: A string representation of the class.\n",
    "    read_line(df, n): Imports the n-th row of a Pandas data frame.\n",
    "    '''\n",
    "    \n",
    "    def __init__(self):\n",
    "        '''\n",
    "        Initializes the OneFlight class.\n",
    "        \n",
    "        Input parameters\n",
    "        ----------------\n",
    "        None\n",
    "        \n",
    "        Attributes\n",
    "        ----------\n",
    "        OneFlight.data (pandas.Series): set to an empty Series.\n",
    "        '''\n",
    "        \n",
    "        self.data=pd.Series()\n",
    "    \n",
    "    def __str__(self):\n",
    "        '''\n",
    "        Returns a string representation of the OneFlight class.\n",
    "        Your string should have the exact format as the example below.\n",
    "        \n",
    "        Example\n",
    "        -------\n",
    "        >>> flight = OneFlight()\n",
    "        >>> print(flight)\n",
    "        Date: 1/17/2001\n",
    "        Departed from BWI at 18:06.\n",
    "        Arrived at CLT at 19:31.\n",
    "        '''\n",
    "        \n",
    "        att=self.__dict__['data']\n",
    "        date=att.astype(str)['Month']+'/'+att.astype(str)['DayofMonth']+'/'+att.astype(str)['Year']\n",
    "        dpt=att.astype(str)['DepTime']\n",
    "        avt=att.astype(str)['ArrTime']\n",
    "        ts1=dpt[:-4] + ':' + dpt[-4:-2]\n",
    "        ts2=avt[:-4] + ':' + avt[-4:-2]\n",
    "        return str(\"Date: {}\\nDeparted from {} at {}.\\nArrived at {} at {}.\".format(date, att['Origin'], ts1, att['Dest'],ts2)) \n",
    "       \n",
    "    def read_line(self, df, n):\n",
    "        '''\n",
    "        Takes a Pandas data frame and an integer \"n\", reads the n-th row of the data frame,\n",
    "        and assigns it to the \"data\" attribute of the OneFlight class.\n",
    "        \n",
    "        Parameters\n",
    "        ----------\n",
    "        df: A Pandas.DataFrame.\n",
    "        n: An integer.\n",
    "        \n",
    "        Returns\n",
    "        -------\n",
    "        None\n",
    "        '''\n",
    "        \n",
    "        self.data=df.iloc[n]\n",
    "       "
   ]
  },
  {
   "cell_type": "code",
   "execution_count": 5,
   "metadata": {
    "collapsed": true
   },
   "outputs": [],
   "source": [
    "flight0 = OneFlight()"
   ]
  },
  {
   "cell_type": "code",
   "execution_count": 6,
   "metadata": {},
   "outputs": [
    {
     "name": "stdout",
     "output_type": "stream",
     "text": [
      "Series([], dtype: float64)\n"
     ]
    }
   ],
   "source": [
    "print(flight0.data)"
   ]
  },
  {
   "cell_type": "code",
   "execution_count": 7,
   "metadata": {
    "collapsed": true
   },
   "outputs": [],
   "source": [
    "assert_equal(flight0.data.equals(pd.Series()), True)"
   ]
  },
  {
   "cell_type": "code",
   "execution_count": 6,
   "metadata": {},
   "outputs": [
    {
     "name": "stdout",
     "output_type": "stream",
     "text": [
      "Year          2001\n",
      "Month            1\n",
      "DayofMonth      17\n",
      "DepTime       1806\n",
      "ArrTime       1931\n",
      "Origin         BWI\n",
      "Dest           CLT\n",
      "Name: 0, dtype: object\n"
     ]
    }
   ],
   "source": [
    "flight0.read_line(df, 0)\n",
    "print(flight0.data)"
   ]
  },
  {
   "cell_type": "code",
   "execution_count": 9,
   "metadata": {
    "collapsed": true
   },
   "outputs": [],
   "source": [
    "assert_equal(flight0.read_line(df, 0), None)\n",
    "\n",
    "assert_equal(flight0.data[\"Year\"], 2001)\n",
    "assert_equal(flight0.data[\"Month\"], 1)\n",
    "assert_equal(flight0.data[\"DayofMonth\"], 17)\n",
    "assert_equal(flight0.data[\"DepTime\"], 1806)\n",
    "assert_equal(flight0.data[\"ArrTime\"], 1931)\n",
    "assert_equal(flight0.data[\"Origin\"], \"BWI\")\n",
    "assert_equal(flight0.data[\"Dest\"], \"CLT\")"
   ]
  },
  {
   "cell_type": "code",
   "execution_count": 7,
   "metadata": {
    "collapsed": true
   },
   "outputs": [],
   "source": [
    "flight1 = OneFlight()"
   ]
  },
  {
   "cell_type": "code",
   "execution_count": 11,
   "metadata": {
    "collapsed": true
   },
   "outputs": [],
   "source": [
    "assert_equal(flight1.data.equals(pd.Series()), True)"
   ]
  },
  {
   "cell_type": "code",
   "execution_count": 8,
   "metadata": {},
   "outputs": [
    {
     "name": "stdout",
     "output_type": "stream",
     "text": [
      "Year          2001\n",
      "Month            1\n",
      "DayofMonth       2\n",
      "DepTime       1402\n",
      "ArrTime       1505\n",
      "Origin         PIT\n",
      "Dest           AVP\n",
      "Name: 1000, dtype: object\n"
     ]
    }
   ],
   "source": [
    "flight1.read_line(df, 1000)\n",
    "print(flight1.data)"
   ]
  },
  {
   "cell_type": "code",
   "execution_count": 13,
   "metadata": {
    "collapsed": true
   },
   "outputs": [],
   "source": [
    "assert_equal(flight1.read_line(df, 1000), None)\n",
    "\n",
    "assert_equal(flight1.data[\"Year\"], 2001)\n",
    "assert_equal(flight1.data[\"Month\"], 1)\n",
    "assert_equal(flight1.data[\"DayofMonth\"], 2)\n",
    "assert_equal(flight1.data[\"DepTime\"], 1402)\n",
    "assert_equal(flight1.data[\"ArrTime\"], 1505)\n",
    "assert_equal(flight1.data[\"Origin\"], \"PIT\")\n",
    "assert_equal(flight1.data[\"Dest\"], \"AVP\")"
   ]
  },
  {
   "cell_type": "code",
   "execution_count": 14,
   "metadata": {
    "scrolled": true
   },
   "outputs": [
    {
     "name": "stdout",
     "output_type": "stream",
     "text": [
      "Date: 1/17/2001\n",
      "Departed from BWI at 18:06.\n",
      "Arrived at CLT at 19:31.\n"
     ]
    }
   ],
   "source": [
    "print(flight0)"
   ]
  },
  {
   "cell_type": "code",
   "execution_count": 15,
   "metadata": {},
   "outputs": [
    {
     "name": "stdout",
     "output_type": "stream",
     "text": [
      "Date: 1/2/2001\n",
      "Departed from PIT at 14:02.\n",
      "Arrived at AVP at 15:05.\n"
     ]
    }
   ],
   "source": [
    "print(flight1)"
   ]
  },
  {
   "cell_type": "code",
   "execution_count": 16,
   "metadata": {
    "collapsed": true
   },
   "outputs": [],
   "source": [
    "assert_equal(str(flight0), 'Date: 1/17/2001\\nDeparted from BWI at 18:06.\\nArrived at CLT at 19:31.')\n",
    "assert_equal(str(flight1), 'Date: 1/2/2001\\nDeparted from PIT at 14:02.\\nArrived at AVP at 15:05.')"
   ]
  },
  {
   "cell_type": "markdown",
   "metadata": {},
   "source": [
    "### Problem 3.2 Inheritance"
   ]
  },
  {
   "cell_type": "code",
   "execution_count": 5,
   "metadata": {
    "collapsed": true
   },
   "outputs": [],
   "source": [
    "class AnotherFlight(OneFlight):\n",
    "    '''\n",
    "    Inherits from OneFlight.\n",
    "    Represents a row (one flight) from an airline performance csv file.\n",
    "    \n",
    "    Attributes\n",
    "    ----------\n",
    "    data: A Pandas Series with the following labels:\n",
    "          \"Year\", \"Month\", \"DayofMonth\", \"DepTime\", \"ArrTime\", \"Origin\", \"Dest\"\n",
    "    \n",
    "    Methods\n",
    "    -------\n",
    "    __init__: Constructor. Optionally accepts a dictionary.\n",
    "    __lt__: Overrides the < (less than) operator to compare the air times of two AnotherFlight objects.\n",
    "    get_airtime(): Returns the flight time (the difference betwen \"DepTime\" and \"ArrTime\") in minutes.\n",
    "    '''\n",
    "    def __init__(self, data=None):\n",
    "        '''\n",
    "        Initializes the AnotherFlight class.\n",
    "        \n",
    "        Input parameters\n",
    "        ----------------\n",
    "        data (dict): Optional.\n",
    "                     If the argument \"data\" is not None,\n",
    "                     AnotherFlight.data is built from this dictionary.\n",
    "        \n",
    "        Attributes\n",
    "        ----------\n",
    "        AnotherFlight.data: A pandas.Series).\n",
    "                            Set to an empty pandas.Series if there's no argument.\n",
    "                            If the optional parameter \"data\" is a dictionary,\n",
    "                            the constructor uses the dictionary to create a\n",
    "                            pandas.Series.\n",
    "        '''\n",
    "        \n",
    "        self.data=pd.Series(data)\n",
    "    \n",
    "    def get_airtime(self):\n",
    "        '''\n",
    "        Returns the flight time in minutes, where air time = ArrTime - DepTime.\n",
    "        For example, if DepTime == 1820 and ArrTime == 1710, get_airtime() returns 70\n",
    "        because 1820 is 6:20 pm and 1710 is 5:10 pm and the difference is 70 minutes.\n",
    "        \n",
    "        Parameters\n",
    "        ----------\n",
    "        None\n",
    "        \n",
    "        Returns\n",
    "        -------\n",
    "        An int.\n",
    "        '''\n",
    "        \n",
    "        att=self.__dict__['data']\n",
    "        dep=att['DepTime']\n",
    "        arv=att['ArrTime']\n",
    "        air=(arv//100*60+arv%100)-(dep//100*60+dep%100)\n",
    "        return air\n",
    "    \n",
    "    def __lt__(self, other):\n",
    "        '''\n",
    "        Returns true if the air time of \"self\" is strictly less than the air time of \"other\".\n",
    "        Returns false if the air time of \"self\" is greater than or equal to \"other\".\n",
    "        '''\n",
    "        \n",
    "        return self.get_airtime() < other.get_airtime()"
   ]
  },
  {
   "cell_type": "code",
   "execution_count": 6,
   "metadata": {},
   "outputs": [
    {
     "name": "stdout",
     "output_type": "stream",
     "text": [
      "Series([], dtype: float64)\n"
     ]
    }
   ],
   "source": [
    "flight2 = AnotherFlight()\n",
    "print(flight2.data)\n",
    "assert_equal(flight2.data.equals(pd.Series()), True)"
   ]
  },
  {
   "cell_type": "code",
   "execution_count": 7,
   "metadata": {},
   "outputs": [
    {
     "name": "stdout",
     "output_type": "stream",
     "text": [
      "Date: 1/17/2001\n",
      "Departed from BWI at 18:06.\n",
      "Arrived at CLT at 19:31.\n"
     ]
    }
   ],
   "source": [
    "flight2.read_line(df, 0)\n",
    "print(flight2)"
   ]
  },
  {
   "cell_type": "code",
   "execution_count": 8,
   "metadata": {
    "collapsed": true
   },
   "outputs": [],
   "source": [
    "assert_equal(flight2.data[\"Year\"], 2001)\n",
    "assert_equal(flight2.data[\"Month\"], 1)\n",
    "assert_equal(flight2.data[\"DayofMonth\"], 17)\n",
    "assert_equal(flight2.data[\"DepTime\"], 1806)\n",
    "assert_equal(flight2.data[\"ArrTime\"], 1931)\n",
    "assert_equal(flight2.data[\"Origin\"], \"BWI\")\n",
    "assert_equal(flight2.data[\"Dest\"], \"CLT\")\n",
    "assert_equal(str(flight2), 'Date: 1/17/2001\\nDeparted from BWI at 18:06.\\nArrived at CLT at 19:31.')"
   ]
  },
  {
   "cell_type": "code",
   "execution_count": 9,
   "metadata": {},
   "outputs": [
    {
     "name": "stdout",
     "output_type": "stream",
     "text": [
      "<class 'dict'>\n",
      "{'Year': 2001, 'Month': 1, 'DayofMonth': 2, 'DepTime': 1402.0, 'ArrTime': 1505.0, 'Origin': 'PIT', 'Dest': 'AVP'}\n"
     ]
    }
   ],
   "source": [
    "flight3_data = df.iloc[1000].to_dict()\n",
    "print(type(flight3_data))\n",
    "print(flight3_data)"
   ]
  },
  {
   "cell_type": "code",
   "execution_count": 10,
   "metadata": {},
   "outputs": [
    {
     "name": "stdout",
     "output_type": "stream",
     "text": [
      "Date: 1/2/2001\n",
      "Departed from PIT at 14:02.\n",
      "Arrived at AVP at 15:05.\n"
     ]
    }
   ],
   "source": [
    "flight3 = AnotherFlight(flight3_data)\n",
    "print(flight3)"
   ]
  },
  {
   "cell_type": "code",
   "execution_count": 11,
   "metadata": {
    "collapsed": true
   },
   "outputs": [],
   "source": [
    "assert_equal(flight3.data[\"Year\"], 2001)\n",
    "assert_equal(flight3.data[\"Month\"], 1)\n",
    "assert_equal(flight3.data[\"DayofMonth\"], 2)\n",
    "assert_equal(flight3.data[\"DepTime\"], 1402)\n",
    "assert_equal(flight3.data[\"ArrTime\"], 1505)\n",
    "assert_equal(flight3.data[\"Origin\"], \"PIT\")\n",
    "assert_equal(flight3.data[\"Dest\"], \"AVP\")\n",
    "assert_equal(str(flight3), 'Date: 1/2/2001\\nDeparted from PIT at 14:02.\\nArrived at AVP at 15:05.')"
   ]
  },
  {
   "cell_type": "code",
   "execution_count": 12,
   "metadata": {
    "collapsed": true
   },
   "outputs": [],
   "source": [
    "# some more tests\n",
    "flight4 = AnotherFlight({\n",
    "    'Year': 2001,\n",
    "    'Month': 1,\n",
    "    'DayofMonth': 28,\n",
    "    'DepTime': 1813.0,\n",
    "    'ArrTime': 1846.0,\n",
    "    'Origin': 'GSO',\n",
    "    'Dest': 'CLT'\n",
    "})\n",
    "\n",
    "assert_equal(flight4.data[\"Year\"], 2001)\n",
    "assert_equal(flight4.data[\"Month\"], 1)\n",
    "assert_equal(flight4.data[\"DayofMonth\"], 28)\n",
    "assert_equal(flight4.data[\"DepTime\"], 1813)\n",
    "assert_equal(flight4.data[\"ArrTime\"], 1846)\n",
    "assert_equal(flight4.data[\"Origin\"], \"GSO\")\n",
    "assert_equal(flight4.data[\"Dest\"], \"CLT\")\n",
    "assert_equal(str(flight4), 'Date: 1/28/2001\\nDeparted from GSO at 18:13.\\nArrived at CLT at 18:46.')\n",
    "\n",
    "flight5 = AnotherFlight({\n",
    "    'Year': 2001,\n",
    "    'Month': 1,\n",
    "    'DayofMonth': 28,\n",
    "    'DepTime': 1331.0,\n",
    "    'ArrTime': 1524.0,\n",
    "    'Origin': 'PHL',\n",
    "    'Dest': 'DTW'\n",
    "})\n",
    "\n",
    "assert_equal(flight5.data[\"Year\"], 2001)\n",
    "assert_equal(flight5.data[\"Month\"], 1)\n",
    "assert_equal(flight5.data[\"DayofMonth\"], 28)\n",
    "assert_equal(flight5.data[\"DepTime\"], 1331)\n",
    "assert_equal(flight5.data[\"ArrTime\"], 1524)\n",
    "assert_equal(flight5.data[\"Origin\"], \"PHL\")\n",
    "assert_equal(flight5.data[\"Dest\"], \"DTW\")\n",
    "assert_equal(str(flight5), 'Date: 1/28/2001\\nDeparted from PHL at 13:31.\\nArrived at DTW at 15:24.')"
   ]
  },
  {
   "cell_type": "code",
   "execution_count": 13,
   "metadata": {},
   "outputs": [
    {
     "name": "stdout",
     "output_type": "stream",
     "text": [
      "85.0\n",
      "63.0\n"
     ]
    }
   ],
   "source": [
    "print(flight2.get_airtime())\n",
    "print(flight3.get_airtime())"
   ]
  },
  {
   "cell_type": "code",
   "execution_count": 14,
   "metadata": {
    "collapsed": true
   },
   "outputs": [],
   "source": [
    "assert_equal(flight2.get_airtime(), 85)\n",
    "assert_equal(flight3.get_airtime(), 63)\n",
    "# some more tests\n",
    "assert_equal(flight4.get_airtime(), 33)\n",
    "assert_equal(flight5.get_airtime(), 113)"
   ]
  },
  {
   "cell_type": "code",
   "execution_count": 15,
   "metadata": {},
   "outputs": [
    {
     "name": "stdout",
     "output_type": "stream",
     "text": [
      "False\n"
     ]
    }
   ],
   "source": [
    "print(flight2 < flight3)"
   ]
  },
  {
   "cell_type": "code",
   "execution_count": 16,
   "metadata": {},
   "outputs": [
    {
     "name": "stdout",
     "output_type": "stream",
     "text": [
      "True\n"
     ]
    }
   ],
   "source": [
    "print(flight3 < flight2)"
   ]
  },
  {
   "cell_type": "code",
   "execution_count": 17,
   "metadata": {
    "collapsed": true
   },
   "outputs": [],
   "source": [
    "assert_equal(flight2 < flight3, False)\n",
    "assert_equal(flight3 < flight2, True) \n",
    "assert_equal(flight2 == flight3, False)\n",
    "\n",
    "# some more tests\n",
    "assert_equal(flight4 < flight5, True)\n",
    "assert_equal(flight5 < flight4, False) \n",
    "assert_equal(flight4 == flight5, False)"
   ]
  }
 ],
 "metadata": {
  "kernelspec": {
   "display_name": "Python 3",
   "language": "python",
   "name": "python3"
  },
  "language_info": {
   "codemirror_mode": {
    "name": "ipython",
    "version": 3
   },
   "file_extension": ".py",
   "mimetype": "text/x-python",
   "name": "python",
   "nbconvert_exporter": "python",
   "pygments_lexer": "ipython3",
   "version": "3.6.1"
  }
 },
 "nbformat": 4,
 "nbformat_minor": 2
}
