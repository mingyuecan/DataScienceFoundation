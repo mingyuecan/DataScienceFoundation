{
 "cells": [
  {
   "cell_type": "code",
   "execution_count": 1,
   "metadata": {
    "collapsed": true
   },
   "outputs": [],
   "source": [
    "%matplotlib inline"
   ]
  },
  {
   "cell_type": "code",
   "execution_count": 2,
   "metadata": {
    "collapsed": true
   },
   "outputs": [],
   "source": [
    "from nose.tools import assert_equal, assert_almost_equal\n",
    "import numpy as np\n",
    "import matplotlib.pyplot as plt"
   ]
  },
  {
   "cell_type": "code",
   "execution_count": 3,
   "metadata": {
    "collapsed": true
   },
   "outputs": [],
   "source": [
    "class Robot:\n",
    "    \n",
    "    \"\"\"\n",
    "    A class for representing a robot\n",
    "    \n",
    "    Parameters\n",
    "    ----------\n",
    "    name : string, a name for the Robot\n",
    "    \n",
    "    \"\"\"\n",
    "\n",
    "    def __init__(self, name):\n",
    "        self.name = name\n",
    "        self.letters_in_name = len(name)\n",
    "        first_letter = name[0]\n",
    "        \n",
    "    def print_info(self):\n",
    "        \n",
    "        \"\"\"\n",
    "        Prints the Robot's name an number of letters\n",
    "        \"\"\"\n",
    "        self.message = (\"This robot's name is {0}. \"\n",
    "                        \"It has {1} letters in its name\"\n",
    "                        ).format(self.name, self.letters_in_name)\n",
    "        print(self.message)"
   ]
  },
  {
   "cell_type": "code",
   "execution_count": 4,
   "metadata": {},
   "outputs": [
    {
     "name": "stdout",
     "output_type": "stream",
     "text": [
      "__init__() missing 1 required positional argument: 'name'\n"
     ]
    }
   ],
   "source": [
    "# call Robot() without argument\n",
    "try:\n",
    "    Robot()\n",
    "except TypeError as e:\n",
    "    print(e)"
   ]
  },
  {
   "cell_type": "code",
   "execution_count": 5,
   "metadata": {},
   "outputs": [
    {
     "name": "stdout",
     "output_type": "stream",
     "text": [
      "'Robot' object has no attribute 'first_letter'\n"
     ]
    }
   ],
   "source": [
    "# get an instance of the class\n",
    "x = Robot(\"Andrew\")\n",
    "# try to access an attribute defined locally within __init__\n",
    "try:\n",
    "    x.first_letter\n",
    "# print the error\n",
    "except AttributeError as e:\n",
    "    print(e)"
   ]
  },
  {
   "cell_type": "code",
   "execution_count": 6,
   "metadata": {},
   "outputs": [
    {
     "name": "stdout",
     "output_type": "stream",
     "text": [
      "This robot's name is Andrew. It has 6 letters in its name\n"
     ]
    }
   ],
   "source": [
    "# instantiate the class and call the print_info() method\n",
    "x = Robot('Andrew')\n",
    "x.print_info()"
   ]
  },
  {
   "cell_type": "code",
   "execution_count": 7,
   "metadata": {},
   "outputs": [
    {
     "name": "stdout",
     "output_type": "stream",
     "text": [
      "The name attribute is            : Andrew\n",
      "The letters_in_name attribute is : 6\n",
      "The message attribute is         : This robot's name is Andrew. It has 6 letters in its name\n"
     ]
    }
   ],
   "source": [
    "print(\"The name attribute is            :\", x.name)\n",
    "print(\"The letters_in_name attribute is :\", x.letters_in_name)\n",
    "print(\"The message attribute is         :\", x.message)"
   ]
  },
  {
   "cell_type": "code",
   "execution_count": 8,
   "metadata": {},
   "outputs": [
    {
     "data": {
      "text/plain": [
       "{'letters_in_name': 6,\n",
       " 'message': \"This robot's name is Andrew. It has 6 letters in its name\",\n",
       " 'name': 'Andrew'}"
      ]
     },
     "execution_count": 8,
     "metadata": {},
     "output_type": "execute_result"
    }
   ],
   "source": [
    "# all the attributes in the instance\n",
    "x.__dict__"
   ]
  },
  {
   "cell_type": "code",
   "execution_count": 9,
   "metadata": {},
   "outputs": [
    {
     "name": "stdout",
     "output_type": "stream",
     "text": [
      "This robot's name is Info. It has 4 letters in its name\n"
     ]
    },
    {
     "data": {
      "text/plain": [
       "{'letters_in_name': 4,\n",
       " 'message': \"This robot's name is Info. It has 4 letters in its name\",\n",
       " 'name': 'Info'}"
      ]
     },
     "execution_count": 9,
     "metadata": {},
     "output_type": "execute_result"
    }
   ],
   "source": [
    "# now get a different instance of the class. It will have different attributes\n",
    "y = Robot(\"Info\")\n",
    "y.print_info()\n",
    "y.__dict__"
   ]
  },
  {
   "cell_type": "markdown",
   "metadata": {},
   "source": [
    "### Problem 1.1"
   ]
  },
  {
   "cell_type": "code",
   "execution_count": 10,
   "metadata": {
    "collapsed": true
   },
   "outputs": [],
   "source": [
    "class Circle:\n",
    "    def __init__(self, radius):\n",
    "        self.radius = radius\n",
    "        self.diameter = 2*radius\n",
    "        self.area = np.pi*(radius**2)"
   ]
  },
  {
   "cell_type": "code",
   "execution_count": 11,
   "metadata": {
    "collapsed": true
   },
   "outputs": [],
   "source": [
    "# test one instance\n",
    "a = Circle(1)\n",
    "assert_equal(a.radius, 1)\n",
    "assert_equal(a.diameter, 2)\n",
    "assert_almost_equal(a.area, 3.141592653589793, places=5)\n",
    "# test another\n",
    "b = Circle(1.5)\n",
    "assert_equal(b.radius, 1.5)\n",
    "assert_equal(b.diameter, 3)\n",
    "assert_almost_equal(b.area, 7.0685834705770345, places=5)"
   ]
  },
  {
   "cell_type": "markdown",
   "metadata": {},
   "source": [
    "### Problem 1.2"
   ]
  },
  {
   "cell_type": "code",
   "execution_count": 28,
   "metadata": {
    "collapsed": true
   },
   "outputs": [],
   "source": [
    "class Circle2(Circle):\n",
    "    \n",
    "    def plot(self,x,y):\n",
    "        fig, ax = plt.subplots()\n",
    "        c = plt.Circle((0,0),self.radius)\n",
    "        ax.add_patch(c)\n",
    "        ax.set_xlim(tuple(x))\n",
    "        ax.set_ylim(tuple(y))\n",
    "        return ax"
   ]
  },
  {
   "cell_type": "code",
   "execution_count": 29,
   "metadata": {
    "collapsed": true
   },
   "outputs": [],
   "source": [
    "# test one case\n",
    "r = 2; xl=[-3,3]; yl=[-3,3];\n",
    "c = Circle2(r)\n",
    "x = c.plot(xl, yl)\n",
    "d = x.patches[0]\n",
    "assert_equal(d.center, (0,0))\n",
    "assert_equal(d.radius, r)\n",
    "assert_equal(x.get_xlim(), tuple(xl))\n",
    "assert_equal(x.get_ylim(), tuple(yl))\n",
    "assert_equal(c.radius, r)\n",
    "assert_equal(c.diameter, 4)\n",
    "assert_almost_equal(c.area, 12.566370614359172, places=5)\n",
    "plt.close()\n",
    "\n",
    "# test another\n",
    "r = 4; xl=[-4,4]; yl=[-4,4];\n",
    "c = Circle2(r)\n",
    "x = c.plot(xl, yl)\n",
    "d = x.patches[0]\n",
    "assert_equal(d.center, (0,0))\n",
    "assert_equal(d.radius, r)\n",
    "assert_equal(x.get_xlim(), tuple(xl))\n",
    "assert_equal(x.get_ylim(), tuple(yl))\n",
    "assert_equal(c.radius, r)\n",
    "assert_equal(c.diameter, 8)\n",
    "assert_almost_equal(c.area, 50.26548245743669, places=5)\n",
    "plt.close()"
   ]
  }
 ],
 "metadata": {
  "kernelspec": {
   "display_name": "Python 3",
   "language": "python",
   "name": "python3"
  },
  "language_info": {
   "codemirror_mode": {
    "name": "ipython",
    "version": 3
   },
   "file_extension": ".py",
   "mimetype": "text/x-python",
   "name": "python",
   "nbconvert_exporter": "python",
   "pygments_lexer": "ipython3",
   "version": "3.6.1"
  }
 },
 "nbformat": 4,
 "nbformat_minor": 2
}
