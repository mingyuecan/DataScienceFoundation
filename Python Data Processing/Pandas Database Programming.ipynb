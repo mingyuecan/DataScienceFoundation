{
 "cells": [
  {
   "cell_type": "markdown",
   "metadata": {},
   "source": [
    "## Pandas Database Programming"
   ]
  },
  {
   "cell_type": "code",
   "execution_count": 1,
   "metadata": {
    "collapsed": true
   },
   "outputs": [],
   "source": [
    "from nose.tools import assert_equal\n",
    "import pandas as pd\n",
    "import sqlite3 as sl\n",
    "import numpy as np\n",
    "import os"
   ]
  },
  {
   "cell_type": "code",
   "execution_count": 2,
   "metadata": {
    "collapsed": true
   },
   "outputs": [],
   "source": [
    "!mkdir -p ~/w14_p1"
   ]
  },
  {
   "cell_type": "code",
   "execution_count": 3,
   "metadata": {
    "collapsed": true
   },
   "outputs": [],
   "source": [
    "try:\n",
    "    os.remove(\"/Users/Constance/w14_p1/p1.db\")\n",
    "except OSError as e:\n",
    "    pass\n"
   ]
  },
  {
   "cell_type": "code",
   "execution_count": 4,
   "metadata": {
    "collapsed": true
   },
   "outputs": [],
   "source": [
    "db = '/Users/Constance/w14_p1/p1.db'"
   ]
  },
  {
   "cell_type": "markdown",
   "metadata": {},
   "source": [
    "### Problem 1"
   ]
  },
  {
   "cell_type": "code",
   "execution_count": 5,
   "metadata": {
    "collapsed": true
   },
   "outputs": [],
   "source": [
    "def create_connector(database):\n",
    "    '''\n",
    "    Creates a connection to a sqlite database\n",
    "    \n",
    "    Parameters\n",
    "    ----------\n",
    "    w: str, a filepath\n",
    "    \n",
    "    Returns\n",
    "    -------\n",
    "    a sqlite3.Connection object\n",
    "    '''\n",
    "    \n",
    "    return sl.connect(database)"
   ]
  },
  {
   "cell_type": "code",
   "execution_count": 6,
   "metadata": {
    "collapsed": true
   },
   "outputs": [],
   "source": [
    "c = create_connector(db)\n",
    "assert_equal(type(c), sl.Connection)\n",
    "assert_equal(c.in_transaction, False)"
   ]
  },
  {
   "cell_type": "code",
   "execution_count": null,
   "metadata": {
    "collapsed": true
   },
   "outputs": [],
   "source": [
    "c.close()"
   ]
  },
  {
   "cell_type": "markdown",
   "metadata": {},
   "source": [
    "### Problem 2"
   ]
  },
  {
   "cell_type": "code",
   "execution_count": 24,
   "metadata": {
    "collapsed": true
   },
   "outputs": [],
   "source": [
    "def csv_to_sql(csv_name, table_name, con):\n",
    "    '''\n",
    "    Converts a csv file to a SQL table in a given database\n",
    "    \n",
    "    Parameters\n",
    "    ----------\n",
    "    csv_name: str, a filepath\n",
    "    table_name: str, a name for the new table\n",
    "    con: a database connection object\n",
    "    \n",
    "    Returns\n",
    "    -------\n",
    "    None\n",
    "    '''\n",
    "    \n",
    "    df=pd.read_csv(csv_name)\n",
    "    table=df.to_sql(table_name, con)\n",
    "    return None"
   ]
  },
  {
   "cell_type": "code",
   "execution_count": 27,
   "metadata": {
    "collapsed": true
   },
   "outputs": [],
   "source": [
    "# get airports.csv into a sql database as the airports table\n",
    "d = create_connector(db)\n",
    "csv_to_sql('/Users/Constance/airports.csv', 'airports', d)\n",
    "\n",
    "# get a cursor object\n",
    "c = d.cursor()\n",
    "# check that the number of airports is correct\n",
    "num_apts = c.execute(\"SELECT COUNT(*) FROM airports\").fetchone()\n",
    "assert_equal(num_apts[0], 3376)\n",
    "# check that the first airport is\n",
    "one_apt = c.execute(\"SELECT * FROM airports ORDER BY iata ASC\").fetchone()\n",
    "assert_equal(one_apt[1], \"00M\")"
   ]
  },
  {
   "cell_type": "code",
   "execution_count": 97,
   "metadata": {
    "collapsed": true
   },
   "outputs": [],
   "source": [
    "d.close()"
   ]
  },
  {
   "cell_type": "code",
   "execution_count": 29,
   "metadata": {},
   "outputs": [
    {
     "name": "stdout",
     "output_type": "stream",
     "text": [
      "(3376,)\n"
     ]
    }
   ],
   "source": [
    "print(num_apts)"
   ]
  },
  {
   "cell_type": "markdown",
   "metadata": {},
   "source": [
    "### Problem 3"
   ]
  },
  {
   "cell_type": "code",
   "execution_count": 92,
   "metadata": {
    "collapsed": true
   },
   "outputs": [],
   "source": [
    "def create_query(table, city_col, state_col, city=None, state=None):\n",
    "    '''\n",
    "    Creates a SQL query to filter a table by city and state\n",
    "    \n",
    "    Parameters\n",
    "    ----------\n",
    "    table: str, a table name\n",
    "    city_col: str, the name of the city field\n",
    "    state_col: str, the name of the state field\n",
    "    city: str or None, the name of the city to filter on\n",
    "    state: str or None, the name of the state to filter on\n",
    "    \n",
    "    Returns\n",
    "    -------\n",
    "    a string representing a valid sql query the filters `table`\n",
    "    by `city` and `state`\n",
    "    '''\n",
    "\n",
    "    if city==None and state==None:\n",
    "        s='select * from'+' '+table\n",
    "    elif city==None and state!=None:\n",
    "        s=\"select * from\"+' '+table+' '+'where'+' '+state_col+' '+'='+' '+\"'\"+state+\"'\"\n",
    "    elif city!=None and state==None:\n",
    "        s=\"select * from\"+' '+table+' '+'where'+' '+city_col+' '+'='+' '+\"'\"+city+\"'\"\n",
    "    elif city!=None and state!=None:\n",
    "        s=\"select * from\"+' '+table+' '+'where'+' '+city_col+' '+'='+' '+\"'\"+city+\"'\"+' '+'AND'+' '+state_col+' '+'='+' '+\"'\"+state+\"'\"\n",
    "    return s"
   ]
  },
  {
   "cell_type": "code",
   "execution_count": 95,
   "metadata": {
    "collapsed": true
   },
   "outputs": [],
   "source": [
    "# test when neither are None\n",
    "q = create_query('airports', 'city', 'state', 'Champaign', 'IL')\n",
    "q_lower = q.lower()\n",
    "assert(\"city = 'Champaign'\" in q)\n",
    "assert(\"state = 'IL'\" in q)\n",
    "assert('select * from airports where' in q_lower)\n",
    "assert('airports' in q)\n",
    "# test when both are None\n",
    "q2 = create_query('airports', 'city', 'state')\n",
    "q2_lower = q2.lower()\n",
    "assert_equal(q2_lower, 'select * from airports')\n",
    "# test when state is None\n",
    "q3=create_query('airports', 'city', 'state', 'Chicago/Waukegan', None)\n",
    "q3_lower = q3.lower()\n",
    "assert_equal(q3_lower, \"select * from airports where city = 'chicago/waukegan'\")\n",
    "# test when city is None\n",
    "q4=create_query('airports', 'city', 'state', None, 'MO')\n",
    "q4_lower = q4.lower()\n",
    "assert_equal(q4_lower, \"select * from airports where state = 'mo'\")\n"
   ]
  },
  {
   "cell_type": "markdown",
   "metadata": {},
   "source": [
    "### Problem 4"
   ]
  },
  {
   "cell_type": "code",
   "execution_count": 104,
   "metadata": {
    "collapsed": true
   },
   "outputs": [],
   "source": [
    "def get_citystate_apts(city, state, con):\n",
    "    '''\n",
    "    Gets the airports in a certain city and state from the airports table\n",
    "    \n",
    "    Parameters\n",
    "    ----------\n",
    "    city: str or None, the name of the city to filter on\n",
    "    state: str or None, the name of the state to filter on\n",
    "    con: a database connection object\n",
    "    \n",
    "    Returns\n",
    "    -------\n",
    "    a dataframe that is the result of the query created by `create_query`\n",
    "    '''\n",
    "    \n",
    "    qry=create_query('airports', 'city', 'state', city=city, state=state)\n",
    "    result=pd.read_sql(qry, con)\n",
    "    return result"
   ]
  },
  {
   "cell_type": "code",
   "execution_count": 105,
   "metadata": {
    "collapsed": true
   },
   "outputs": [],
   "source": [
    "con = create_connector(db)\n",
    "\n",
    "# check when only specifying state\n",
    "q_data = get_citystate_apts(None, 'IL', con)\n",
    "assert_equal(type(q_data), pd.DataFrame)\n",
    "assert_equal(len(q_data), 88)\n",
    "assert_equal(len(q_data.state.unique()), 1)\n",
    "assert_equal(q_data.state.unique(), \"IL\")\n",
    "# only specifying city\n",
    "q_data2 = get_citystate_apts('Columbia', None, con)\n",
    "assert_equal(type(q_data2), pd.DataFrame)\n",
    "assert_equal(len(q_data2), 5)\n",
    "assert_equal(len(q_data2.state.unique()), 4)\n",
    "# specifying neither\n",
    "q_data3 = get_citystate_apts(None, None, con)\n",
    "assert_equal(type(q_data3), pd.DataFrame)\n",
    "assert_equal(len(q_data3), 3376)\n",
    "assert_equal(len(q_data3.state.unique()), 57)\n",
    "# specifying both\n",
    "q_data4 = get_citystate_apts(\"Chicago\", \"IL\", con)\n",
    "assert_equal(type(q_data4), pd.DataFrame)\n",
    "assert_equal(len(q_data4), 3)\n",
    "assert_equal(len(q_data4.state.unique()), 1)"
   ]
  },
  {
   "cell_type": "code",
   "execution_count": 106,
   "metadata": {
    "collapsed": true
   },
   "outputs": [],
   "source": [
    "con.close()"
   ]
  },
  {
   "cell_type": "markdown",
   "metadata": {},
   "source": [
    "### Problem 5"
   ]
  },
  {
   "cell_type": "code",
   "execution_count": 117,
   "metadata": {
    "collapsed": true
   },
   "outputs": [],
   "source": [
    "df1=pd.read_csv('2001.csv',usecols=('DepDelay','Origin'))\n",
    "df1.dropna(inplace=True)\n",
    "df1=df1.groupby('Origin', as_index=False).median()\n",
    "df1.columns=['iata','medianDepDelay']\n",
    "df2=pd.read_csv('airports.csv',usecols=('iata','airport','city','state'))\n",
    "df=df2.merge(df1, on='iata', how='right')"
   ]
  },
  {
   "cell_type": "code",
   "execution_count": 118,
   "metadata": {
    "collapsed": true
   },
   "outputs": [],
   "source": [
    "table=df.to_sql('AirportDelays', d, index=False,if_exists='replace')"
   ]
  },
  {
   "cell_type": "code",
   "execution_count": 142,
   "metadata": {
    "collapsed": true
   },
   "outputs": [],
   "source": [
    "d = create_connector(db)\n",
    "c = d.cursor()"
   ]
  },
  {
   "cell_type": "code",
   "execution_count": 151,
   "metadata": {
    "collapsed": true
   },
   "outputs": [],
   "source": [
    "# check that the number of airports is correct\n",
    "num_apts = c.execute(\"SELECT COUNT(*) FROM AirportDelays\").fetchone()\n",
    "assert_equal(num_apts[0], 231)\n",
    "\n",
    "# get the champaign data\n",
    "cmi_data = c.execute(\"SELECT * FROM AirportDelays WHERE iata = 'CMI'\").fetchall()\n",
    "# there should only be one record\n",
    "assert_equal(len(cmi_data), 1)\n",
    "\n",
    "# check the column names and get indices\n",
    "cols = [x[0] for x in c.description]\n",
    "iata_col = cols.index('iata')\n",
    "airpt_col = cols.index('airport')\n",
    "city_col = cols.index('city')\n",
    "state_col = cols.index('state')\n",
    "data_col = cols.index('medianDepDelay')\n",
    "cols.sort()\n",
    "assert_equal(['airport', 'city', 'iata', 'medianDepDelay', 'state'], cols)\n",
    "\n",
    "# check the champaign data\n",
    "assert_equal('Champaign/Urbana', cmi_data[0][city_col])\n",
    "assert_equal(-2.0, cmi_data[0][data_col])\n",
    "\n",
    "# get the Dallas Data\n",
    "dfw_data = c.execute(\"SELECT * FROM AirportDelays WHERE iata = 'DFW'\").fetchall()\n",
    "assert_equal('Dallas-Fort Worth International', dfw_data[0][airpt_col])\n",
    "assert_equal('TX', dfw_data[0][state_col])\n",
    "\n",
    "# get the Boston Data\n",
    "bos_data = c.execute(\"SELECT * FROM AirportDelays WHERE iata = 'BOS'\").fetchall()\n",
    "assert_equal('Dallas-Fort Worth', dfw_data[0][city_col])\n",
    "assert_equal(0.0, bos_data[0][data_col])"
   ]
  },
  {
   "cell_type": "code",
   "execution_count": 152,
   "metadata": {
    "collapsed": true
   },
   "outputs": [],
   "source": [
    "d.close()"
   ]
  },
  {
   "cell_type": "markdown",
   "metadata": {},
   "source": [
    "### Cleanup"
   ]
  },
  {
   "cell_type": "code",
   "execution_count": 153,
   "metadata": {
    "collapsed": true
   },
   "outputs": [],
   "source": [
    "!rm -rf /Users/Constance/w14_p1/\n",
    "try:\n",
    "    os.remove(\"/Users/Constance/w14_p1/p1.db\")\n",
    "except OSError as e:\n",
    "    pass"
   ]
  }
 ],
 "metadata": {
  "kernelspec": {
   "display_name": "Python 3",
   "language": "python",
   "name": "python3"
  },
  "language_info": {
   "codemirror_mode": {
    "name": "ipython",
    "version": 3
   },
   "file_extension": ".py",
   "mimetype": "text/x-python",
   "name": "python",
   "nbconvert_exporter": "python",
   "pygments_lexer": "ipython3",
   "version": "3.6.1"
  }
 },
 "nbformat": 4,
 "nbformat_minor": 2
}
