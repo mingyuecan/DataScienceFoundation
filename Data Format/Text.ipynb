{
 "cells": [
  {
   "cell_type": "markdown",
   "metadata": {},
   "source": [
    "## Data Format: Text"
   ]
  },
  {
   "cell_type": "code",
   "execution_count": 1,
   "metadata": {
    "collapsed": true
   },
   "outputs": [],
   "source": [
    "from nose.tools import assert_equal\n",
    "import csv"
   ]
  },
  {
   "cell_type": "markdown",
   "metadata": {},
   "source": [
    "### Problem 1"
   ]
  },
  {
   "cell_type": "code",
   "execution_count": 66,
   "metadata": {
    "collapsed": true
   },
   "outputs": [],
   "source": [
    "def get_cols_by_index(fname, cols, delim=','):\n",
    "    '''\n",
    "    Gets columns of a delimited text file by index or column number\n",
    "    \n",
    "    Params\n",
    "    -------\n",
    "    fname: the file name (and path)\n",
    "    cols : a list of indices for the columns (a list of column numbers)\n",
    "    delim: the delimiter character to pass to csv.reader\n",
    "    \n",
    "    Returns\n",
    "    -------\n",
    "    A list of tuples where each element corresponds to a row of data\n",
    "    from the text file. The tuples should have the same length as cols,\n",
    "    and each element of the tuple should be a field from the text file.\n",
    "    \n",
    "    '''\n",
    "    \n",
    "    with open(fname, 'r') as csvfile:\n",
    "        reader=csv.reader(csvfile, delimiter=delim)\n",
    "        result=[]\n",
    "        for row in reader:\n",
    "            content = tuple(row[i] for i in cols)\n",
    "            result.append(content)\n",
    "    return result"
   ]
  },
  {
   "cell_type": "code",
   "execution_count": 41,
   "metadata": {
    "collapsed": true
   },
   "outputs": [],
   "source": [
    "# did you return the correct datatype?\n",
    "random_answer = get_cols_by_index('/Users/Constance/airports.csv', cols=[1,2])\n",
    "assert_equal(type(random_answer[0]), tuple)\n",
    "\n",
    "# is the header still there?\n",
    "all_cols = ['iata', 'airport', 'city', 'state', 'country', 'lat', 'long']\n",
    "assert_equal(tuple(all_cols),\n",
    "            get_cols_by_index('/Users/Constance/airports.csv', delim=',', cols=list(range(7)))[0])\n",
    "\n",
    "# test with comma and 7 cols\n",
    "fifth_row = !sed -n 6p '/Users/Constance/airports.csv'\n",
    "fifth_row = tuple(x.strip('\"') for x in fifth_row[0].split(','))\n",
    "fifth_row_test = get_cols_by_index('/Users/Constance/airports.csv', delim=',', cols=list(range(7)))[5]\n",
    "assert_equal(fifth_row, fifth_row_test)\n",
    "\n",
    "# test with comma and 1 col\n",
    "eigth_row_one_col = !sed -n 9p '/Users/Constance/airports.csv' | cut -d ',' -f2\n",
    "eigth_row_one_col = tuple(x.strip('\"') for x in eigth_row_one_col[0].split(','))\n",
    "eigth_row_one_col_test = get_cols_by_index('/Users/Constance/airports.csv', delim=',', cols=[1])[8]\n",
    "assert_equal(eigth_row_one_col, eigth_row_one_col_test)"
   ]
  },
  {
   "cell_type": "markdown",
   "metadata": {},
   "source": [
    "### Problem 2"
   ]
  },
  {
   "cell_type": "code",
   "execution_count": 104,
   "metadata": {
    "collapsed": true
   },
   "outputs": [],
   "source": [
    "def get_cols_by_name(fname, cols, delim=','):\n",
    "    '''\n",
    "    Gets columns of a delimited text file by name. Assumes the first\n",
    "    row of the text file contains the header or column names.\n",
    "    \n",
    "    Params\n",
    "    -------\n",
    "    fname: the file name (and path)\n",
    "    cols : a list of names of the fields (columns) to be returned\n",
    "    delim: the delimiter character to pass to csv.reader\n",
    "    \n",
    "    Returns\n",
    "    -------\n",
    "    A list of tuples where each element corresponds to a row of data\n",
    "    from the text file. The tuples should have the same length as cols,\n",
    "    and each element of the tuple should be a field from the text file.\n",
    "    \n",
    "    '''\n",
    "    \n",
    "    with open(fname, 'r') as csvfile:\n",
    "        reader=csv.reader(csvfile, delimiter=delim)\n",
    "        header=csv.DictReader(open(fname, 'r')).fieldnames \n",
    "        colnum=[]\n",
    "        result=[]\n",
    "        for m in cols:\n",
    "            n=header.index(m)\n",
    "            colnum.append(n)\n",
    "        for row in reader:\n",
    "            content = tuple(row[i] for i in colnum)\n",
    "            result.append(content)\n",
    "    return result"
   ]
  },
  {
   "cell_type": "code",
   "execution_count": 105,
   "metadata": {
    "collapsed": true
   },
   "outputs": [],
   "source": [
    "# did you return the correct datatype?\n",
    "random_answer = get_cols_by_name('/Users/Constance/airports.csv', cols=['iata', 'city'])\n",
    "assert_equal(type(random_answer[0]), tuple)\n",
    "[assert_equal(type(x), tuple) for x in random_answer]\n",
    "\n",
    "# is the header still there?\n",
    "all_cols = ['iata', 'airport', 'city', 'state', 'country', 'lat', 'long']\n",
    "assert_equal(tuple(all_cols),\n",
    "            get_cols_by_name('/Users/Constance/airports.csv', delim=',', cols=all_cols)[0])\n",
    "\n",
    "# test with comma and 1 col\n",
    "eigth_row_one_col = !sed -n 9p '/Users/Constance/airports.csv' | cut -d ',' -f6\n",
    "eigth_row_one_col = tuple(x.strip('\"') for x in eigth_row_one_col[0].split(','))\n",
    "eigth_row_one_col_test = get_cols_by_name('/Users/Constance/airports.csv', delim=',', cols=['lat'])[8]\n",
    "assert_equal(eigth_row_one_col, eigth_row_one_col_test)"
   ]
  },
  {
   "cell_type": "markdown",
   "metadata": {},
   "source": [
    "### Problem 3"
   ]
  },
  {
   "cell_type": "code",
   "execution_count": 136,
   "metadata": {
    "collapsed": true
   },
   "outputs": [],
   "source": [
    "def my_read_csv(fname, cols, delim = ','):\n",
    "    '''\n",
    "    Gets columns of a delimited text file by name or index. Assumes \n",
    "    the first row of the text file contains the header or column names.\n",
    "    \n",
    "    Params\n",
    "    -------\n",
    "    fname: the file name (and path)\n",
    "    cols : a list of names or indices of the fields (columns) to be \n",
    "           returned\n",
    "    delim: the delimiter character to pass to csv.reader\n",
    "    \n",
    "    Returns\n",
    "    -------\n",
    "    A list of tuples where each element corresponds to a row of data\n",
    "    from the text file. The tuples should have the same length as cols,\n",
    "    and each element of the tuple should be a field from the text file.\n",
    "    \n",
    "    '''\n",
    "    \n",
    "    if all(isinstance(x, int) for x in cols)==True:\n",
    "        return get_cols_by_index(fname, cols, delim=',')\n",
    "    elif all(isinstance(x, str) for x in cols)==True:\n",
    "        return get_cols_by_name(fname, cols, delim=',')\n",
    "    else:\n",
    "        return []"
   ]
  },
  {
   "cell_type": "code",
   "execution_count": 139,
   "metadata": {
    "collapsed": true
   },
   "outputs": [],
   "source": [
    "# did you return the correct datatype?\n",
    "random_answer = my_read_csv('/Users/Constance/airports.csv', cols=[1,2])\n",
    "assert_equal(type(random_answer[0]), tuple)\n",
    "[assert_equal(type(x), tuple) for x in random_answer]\n",
    "\n",
    "# is the header still there?\n",
    "all_cols = ['iata', 'airport', 'city', 'state', 'country', 'lat', 'long']\n",
    "assert_equal(tuple(all_cols),\n",
    "            my_read_csv('/Users/Constance/airports.csv', delim=',', cols=all_cols)[0])\n",
    "\n",
    "# test with comma and 1 col by name\n",
    "myans1 = !sed -n 21p '/Users/Constance/airports.csv' | cut -d ',' -f6\n",
    "myans1 = tuple(x.strip('\"') for x in myans1[0].split(','))\n",
    "mytest1 = my_read_csv('/Users/Constance/airports.csv', delim=',', cols=['lat'])[20]\n",
    "assert_equal(myans1, mytest1)\n",
    "\n",
    "# test with comma and 7 cols by index\n",
    "myans3 = !sed -n 6p '/Users/Constance/airports.csv'\n",
    "myans3 = tuple(x.strip('\"') for x in myans3[0].split(','))\n",
    "mytest3 = my_read_csv('/Users/Constance/airports.csv', delim=',', cols=list(range(7)))[5]\n",
    "assert_equal(myans3, mytest3)\n",
    "\n",
    "# test with comma and 1 col by index\n",
    "myans4 = !sed -n 9p '/Users/Constance/airports.csv' | cut -d ',' -f2\n",
    "myans4 = tuple(x.strip('\"') for x in myans4[0].split(','))\n",
    "mytest4 = my_read_csv('/Users/Constance/airports.csv', delim=',', cols=[1])[8]\n",
    "assert_equal(myans4, mytest4)\n",
    "\n",
    "# does the error handling work?\n",
    "assert_equal([], my_read_csv('/Users/Constance/airports.csv', delim=',', cols=[1, 'a']))\n"
   ]
  }
 ],
 "metadata": {
  "kernelspec": {
   "display_name": "Python 3",
   "language": "python",
   "name": "python3"
  },
  "language_info": {
   "codemirror_mode": {
    "name": "ipython",
    "version": 3
   },
   "file_extension": ".py",
   "mimetype": "text/x-python",
   "name": "python",
   "nbconvert_exporter": "python",
   "pygments_lexer": "ipython3",
   "version": "3.6.1"
  }
 },
 "nbformat": 4,
 "nbformat_minor": 2
}
