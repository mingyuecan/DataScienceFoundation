{
 "cells": [
  {
   "cell_type": "code",
   "execution_count": 7,
   "metadata": {
    "collapsed": true
   },
   "outputs": [],
   "source": [
    "from nose.tools import assert_equal\n",
    "import pickle, csv, sys, json, os"
   ]
  },
  {
   "cell_type": "code",
   "execution_count": 12,
   "metadata": {
    "collapsed": true
   },
   "outputs": [],
   "source": [
    "%%bash\n",
    "mkdir -p ~/w12p1_dir\n",
    "cd ~/w12p1_dir/"
   ]
  },
  {
   "cell_type": "code",
   "execution_count": 41,
   "metadata": {
    "collapsed": true
   },
   "outputs": [],
   "source": [
    "!curl -s https://raw.githubusercontent.com/UI-DataScience/summer2014/c6057185f9a910dfc04dfdc8e65d7f1ef9bb3f64/hw5/%23informatics.p -o '#informatics.p'"
   ]
  },
  {
   "cell_type": "code",
   "execution_count": 21,
   "metadata": {
    "collapsed": true
   },
   "outputs": [],
   "source": [
    "def make_data():\n",
    "    res = {}\n",
    "    with open('/Users/Constance/airports.csv', 'r', encoding='latin1') as f:\n",
    "        for row in csv.reader(f, delimiter=','):\n",
    "            res[row[0]] = tuple(row[1:])\n",
    "            \n",
    "    return res\n",
    "\n",
    "res = make_data()"
   ]
  },
  {
   "cell_type": "code",
   "execution_count": 22,
   "metadata": {},
   "outputs": [
    {
     "data": {
      "text/plain": [
       "3377"
      ]
     },
     "execution_count": 22,
     "metadata": {},
     "output_type": "execute_result"
    }
   ],
   "source": [
    "len(res)"
   ]
  },
  {
   "cell_type": "code",
   "execution_count": 23,
   "metadata": {},
   "outputs": [
    {
     "data": {
      "text/plain": [
       "('Thigpen ', 'Bay Springs', 'MS', 'USA', '31.95376472', '-89.23450472')"
      ]
     },
     "execution_count": 23,
     "metadata": {},
     "output_type": "execute_result"
    }
   ],
   "source": [
    "res['00M']"
   ]
  },
  {
   "cell_type": "code",
   "execution_count": 24,
   "metadata": {},
   "outputs": [
    {
     "name": "stdout",
     "output_type": "stream",
     "text": [
      "res is roughly 0.15 MB\n"
     ]
    }
   ],
   "source": [
    "size_in_mb = sys.getsizeof(res)/1000000\n",
    "print('res is roughly {0:0.2f} MB'.format(size_in_mb))"
   ]
  },
  {
   "cell_type": "code",
   "execution_count": 26,
   "metadata": {},
   "outputs": [
    {
     "data": {
      "text/plain": [
       "True"
      ]
     },
     "execution_count": 26,
     "metadata": {},
     "output_type": "execute_result"
    }
   ],
   "source": [
    "def dict_to_str(a_dict):\n",
    "    \n",
    "    return str(a_dict)\n",
    "\n",
    "def str_to_dict(a_dict):\n",
    "    \n",
    "    return eval(a_dict)\n",
    "\n",
    "# verify\n",
    "str_to_dict(dict_to_str(res)) == res"
   ]
  },
  {
   "cell_type": "markdown",
   "metadata": {},
   "source": [
    "### Problem 1"
   ]
  },
  {
   "cell_type": "code",
   "execution_count": 30,
   "metadata": {
    "collapsed": true
   },
   "outputs": [],
   "source": [
    "def write_out(obj, fname):\n",
    "    \n",
    "    \"\"\"Wrapper function to write Python objects using standard I/O\"\"\"\n",
    "    \n",
    "    with open(fname, 'w') as fout:\n",
    "        fout.write(obj)\n",
    "    return None"
   ]
  },
  {
   "cell_type": "code",
   "execution_count": 29,
   "metadata": {
    "collapsed": true
   },
   "outputs": [],
   "source": [
    "tdata = 'THIS IS A TEST'\n",
    "write_out(tdata, '/Users/Constance/w12p1_dir/p1_test')\n",
    "ans_p1 = !cat /Users/Constance/w12p1_dir/p1_test\n",
    "assert_equal(ans_p1[0], tdata)\n",
    "assert_equal(len(ans_p1), 1)\n",
    "\n",
    "tdata_2 = 'THIS IS A\\nMULTI-LINE TEST'\n",
    "write_out(tdata_2, '/Users/Constance/w12p1_dir/p1_test_2')\n",
    "ans_p1_2 = !cat /Users/Constance/w12p1_dir/p1_test_2\n",
    "assert_equal(ans_p1_2[0], \"THIS IS A\")\n",
    "assert_equal(ans_p1_2[1], \"MULTI-LINE TEST\")\n",
    "assert_equal(len(ans_p1_2), 2)"
   ]
  },
  {
   "cell_type": "markdown",
   "metadata": {},
   "source": [
    "### Problem 2"
   ]
  },
  {
   "cell_type": "code",
   "execution_count": 31,
   "metadata": {
    "collapsed": true
   },
   "outputs": [],
   "source": [
    "def read_in(fname):\n",
    "    \n",
    "    \"\"\"Wrapper function to read standard files\"\"\"\n",
    "    \n",
    "    with open(fname, 'r') as fin:\n",
    "        result=[line for line in fin]\n",
    "    return result"
   ]
  },
  {
   "cell_type": "code",
   "execution_count": 33,
   "metadata": {
    "collapsed": true
   },
   "outputs": [],
   "source": [
    "# check for a standard case\n",
    "tdata = \"THIS IS A PROBLEM 2 TEST\\nIT HAS TWO LINES\"\n",
    "write_out(tdata, '/Users/Constance/w12p1_dir/p2_test')\n",
    "p2_ans = read_in('/Users/Constance/w12p1_dir/p2_test')\n",
    "assert_equal(len(p2_ans), 2)\n",
    "assert_equal(p2_ans[0], \"THIS IS A PROBLEM 2 TEST\\n\")\n",
    "assert_equal(p2_ans[1], \"IT HAS TWO LINES\")\n",
    "\n",
    "\n",
    "# now check reading and writing a dictionary!\n",
    "res = make_data()\n",
    "res_str = dict_to_str(res)\n",
    "write_out(res_str, '/Users/Constance/w12p1_dir/apts.txt')\n",
    "read_res = read_in('/Users/Constance/w12p1_dir/apts.txt')\n",
    "read_res_dict = str_to_dict(read_res[0])\n",
    "res_two = make_data() # remake data\n",
    "\n",
    "assert_equal(res, res_two)\n",
    "assert_equal(read_res_dict, res)"
   ]
  },
  {
   "cell_type": "markdown",
   "metadata": {},
   "source": [
    "### Problem 3"
   ]
  },
  {
   "cell_type": "code",
   "execution_count": 34,
   "metadata": {
    "collapsed": true
   },
   "outputs": [],
   "source": [
    "def write_pickle(obj, fname):\n",
    "    \n",
    "    \"\"\"Wrapper function to pickle Python objects\"\"\"\n",
    "    \n",
    "    with open(fname, 'wb') as fout:\n",
    "        pickle.dump(obj, fout)\n",
    "    return None"
   ]
  },
  {
   "cell_type": "code",
   "execution_count": 35,
   "metadata": {
    "collapsed": true
   },
   "outputs": [],
   "source": [
    "# insert assert tests here\n",
    "tdata = make_data()\n",
    "path = '/Users/Constance/w12p1_dir/p3.p'\n",
    "write_pickle(make_data,path)\n",
    "assert(os.path.exists(path))\n",
    "# NOTE this only checks if the file is there, not that it's right"
   ]
  },
  {
   "cell_type": "markdown",
   "metadata": {},
   "source": [
    "### Problem 4"
   ]
  },
  {
   "cell_type": "code",
   "execution_count": 37,
   "metadata": {
    "collapsed": true
   },
   "outputs": [],
   "source": [
    "def read_pickle(fname):\n",
    "    \n",
    "    \"\"\"Wrapper function to un-pickle Python objects\"\"\"\n",
    "\n",
    "    with open(fname, 'rb') as fin:\n",
    "        result = pickle.load(fin)\n",
    "        return result"
   ]
  },
  {
   "cell_type": "code",
   "execution_count": 43,
   "metadata": {
    "collapsed": true
   },
   "outputs": [],
   "source": [
    "res = make_data()\n",
    "write_pickle(res, '/Users/Constance/w12p1_dir/p4.p')\n",
    "pkl_read_res = read_pickle('/Users/Constance/w12p1_dir/p4.p')\n",
    "res_two = make_data()\n",
    "\n",
    "# you didnt modify the file\n",
    "assert_equal(res, res_two)\n",
    "# the pickle loaded file is the same\n",
    "assert_equal(pkl_read_res, res_two)\n",
    "\n",
    "# check a different pickle file\n",
    "\n",
    "pkl_read_res2 = read_pickle(\"/Users/Constance/#informatics.p\")\n",
    "assert_equal(type(pkl_read_res2), list)\n",
    "assert_equal(len(pkl_read_res2), 1080)\n",
    "assert_equal(type(pkl_read_res2[0]), dict)"
   ]
  },
  {
   "cell_type": "markdown",
   "metadata": {},
   "source": [
    "### Problem 5"
   ]
  },
  {
   "cell_type": "code",
   "execution_count": 47,
   "metadata": {
    "collapsed": true
   },
   "outputs": [],
   "source": [
    "def write_json(obj, fname):\n",
    "    \n",
    "    \"\"\"Wrapper function to write dictionaries as JSON\"\"\"\n",
    "    \n",
    "    with open(fname, 'w') as fout:\n",
    "        json.dump(obj, fout)\n",
    "    return None"
   ]
  },
  {
   "cell_type": "code",
   "execution_count": 48,
   "metadata": {
    "collapsed": true
   },
   "outputs": [],
   "source": [
    "tdata = make_data()\n",
    "write_json(tdata, '/Users/Constance/w12p1_dir/p5.json')\n",
    "ans = !cat //Users/Constance/w12p1_dir/p5.json\n",
    "assert_equal(tdata, make_data())\n",
    "assert('[\"Jackson Municipal\"' in ans[0])\n",
    "assert_equal(len(ans), 1)\n",
    "assert_equal(len(ans[0]), 288387)"
   ]
  },
  {
   "cell_type": "markdown",
   "metadata": {},
   "source": [
    "### Problem 6"
   ]
  },
  {
   "cell_type": "code",
   "execution_count": 61,
   "metadata": {
    "collapsed": true
   },
   "outputs": [],
   "source": [
    "def read_json(fname):\n",
    "    \n",
    "    \"\"\"Read JSON and convert entries of the dictionary to tuples\"\"\"\n",
    "    \n",
    "    with open(fname, 'r') as fin:\n",
    "        result = json.load(fin)\n",
    "        for i,j in result.items():\n",
    "            result[i]=tuple(j)\n",
    "    return result"
   ]
  },
  {
   "cell_type": "code",
   "execution_count": 62,
   "metadata": {
    "collapsed": true
   },
   "outputs": [],
   "source": [
    "res = make_data()\n",
    "write_json(res, '/Users/Constance/w12p1_dir/p6.json')\n",
    "json_read_res = read_json('/Users/Constance/w12p1_dir/p6.json')\n",
    "res_two = make_data()\n",
    "\n",
    "assert_equal(res, res_two)\n",
    "assert_equal(json_read_res, res)"
   ]
  },
  {
   "cell_type": "markdown",
   "metadata": {},
   "source": [
    "### Clean Up"
   ]
  },
  {
   "cell_type": "code",
   "execution_count": 64,
   "metadata": {
    "collapsed": true
   },
   "outputs": [],
   "source": [
    "!rm -r /Users/Constance/w12p1_dir/"
   ]
  }
 ],
 "metadata": {
  "kernelspec": {
   "display_name": "Python 3",
   "language": "python",
   "name": "python3"
  },
  "language_info": {
   "codemirror_mode": {
    "name": "ipython",
    "version": 3
   },
   "file_extension": ".py",
   "mimetype": "text/x-python",
   "name": "python",
   "nbconvert_exporter": "python",
   "pygments_lexer": "ipython3",
   "version": "3.6.1"
  }
 },
 "nbformat": 4,
 "nbformat_minor": 2
}
