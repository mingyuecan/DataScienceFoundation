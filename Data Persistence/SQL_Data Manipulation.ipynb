{
 "cells": [
  {
   "cell_type": "code",
   "execution_count": 1,
   "metadata": {
    "collapsed": true
   },
   "outputs": [],
   "source": [
    "from nose.tools import assert_equal"
   ]
  },
  {
   "cell_type": "code",
   "execution_count": 47,
   "metadata": {
    "collapsed": true
   },
   "outputs": [],
   "source": [
    "MOVIES_PATH = \"/Users/Constance/ml-latest-small/movies.csv\"\n",
    "RATINGS_PATH = \"/Users/Constance/ml-latest-small/ratings.csv\"\n",
    "\n",
    "!ln -sf $MOVIES_PATH movies.csv\n",
    "!ln -sf $RATINGS_PATH ratings.csv"
   ]
  },
  {
   "cell_type": "code",
   "execution_count": 48,
   "metadata": {},
   "outputs": [
    {
     "name": "stdout",
     "output_type": "stream",
     "text": [
      "Overwriting movies.sql\n"
     ]
    }
   ],
   "source": [
    "%%writefile movies.sql\n",
    "\n",
    "-- Create the movies table from our familiar movies.csv file.\n",
    "DROP TABLE IF EXISTS movies;\n",
    "\n",
    "CREATE TABLE movies(\n",
    "    movieId INT,\n",
    "    title TEXT,\n",
    "    genres TEXT\n",
    ");\n",
    "\n",
    ".separator ,\n",
    ".import movies.csv movies\n",
    "\n",
    "-- The following line removes the header.\n",
    "DELETE FROM movies WHERE movieId='movieId';\n",
    "\n",
    "-- Display the first 5 rows.\n",
    "SELECT * FROM movies LIMIT 5;"
   ]
  },
  {
   "cell_type": "code",
   "execution_count": 49,
   "metadata": {},
   "outputs": [
    {
     "name": "stdout",
     "output_type": "stream",
     "text": [
      "1,Toy Story (1995),Adventure|Animation|Children|Comedy|Fantasy\r\n",
      "2,Jumanji (1995),Adventure|Children|Fantasy\r\n",
      "3,Grumpier Old Men (1995),Comedy|Romance\r\n",
      "4,Waiting to Exhale (1995),Comedy|Drama|Romance\r\n",
      "5,Father of the Bride Part II (1995),Comedy\r\n"
     ]
    }
   ],
   "source": [
    "!sqlite3 problem3.db < movies.sql"
   ]
  },
  {
   "cell_type": "code",
   "execution_count": 50,
   "metadata": {},
   "outputs": [
    {
     "name": "stdout",
     "output_type": "stream",
     "text": [
      "Overwriting ratings.sql\n"
     ]
    }
   ],
   "source": [
    "%%writefile ratings.sql\n",
    "\n",
    "-- Create the ratings table from ratings.csv.\n",
    "DROP TABLE IF EXISTS ratings;\n",
    "\n",
    "CREATE TABLE ratings(\n",
    "    userId INT,\n",
    "    movieId INT,\n",
    "    rating REAL,\n",
    "    timestamp INT\n",
    ");\n",
    "\n",
    ".separator ,\n",
    ".import ratings.csv ratings\n",
    "\n",
    "-- The following line removes the header.\n",
    "DELETE FROM ratings WHERE userId='userId';\n",
    "\n",
    "-- Display the first 5 rows.\n",
    "SELECT * FROM ratings LIMIT 5;"
   ]
  },
  {
   "cell_type": "code",
   "execution_count": 51,
   "metadata": {},
   "outputs": [
    {
     "name": "stdout",
     "output_type": "stream",
     "text": [
      "1,31,2.5,1260759144\r\n",
      "1,1029,3.0,1260759179\r\n",
      "1,1061,3.0,1260759182\r\n",
      "1,1129,2.0,1260759185\r\n",
      "1,1172,4.0,1260759205\r\n"
     ]
    }
   ],
   "source": [
    "!sqlite3 problem3.db < ratings.sql"
   ]
  },
  {
   "cell_type": "markdown",
   "metadata": {},
   "source": [
    "### 1. Create the validRatings table"
   ]
  },
  {
   "cell_type": "code",
   "execution_count": 20,
   "metadata": {},
   "outputs": [
    {
     "name": "stdout",
     "output_type": "stream",
     "text": [
      "Overwriting ratings_operations.sql\n"
     ]
    }
   ],
   "source": [
    "%%writefile ratings_operations.sql\n",
    "DROP TABLE IF EXISTS validRatings;\n",
    "CREATE TABLE validRatings AS\n",
    "  SELECT movieId, AVG(rating) AS averageRating, COUNT(rating) AS ratingCounts\n",
    "    FROM ratings\n",
    "    GROUP BY movieId\n",
    "    HAVING COUNT(rating)>30;"
   ]
  },
  {
   "cell_type": "code",
   "execution_count": 21,
   "metadata": {
    "collapsed": true
   },
   "outputs": [],
   "source": [
    "!sqlite3 problem3.db < ratings_operations.sql"
   ]
  },
  {
   "cell_type": "code",
   "execution_count": 22,
   "metadata": {},
   "outputs": [
    {
     "name": "stdout",
     "output_type": "stream",
     "text": [
      "1|3.87246963562753|247\r\n",
      "2|3.4018691588785|107\r\n",
      "3|3.16101694915254|59\r\n",
      "5|3.26785714285714|56\r\n",
      "6|3.88461538461538|104\r\n"
     ]
    }
   ],
   "source": [
    "!sqlite3 problem3.db \"SELECT * FROM validRatings LIMIT 5;\""
   ]
  },
  {
   "cell_type": "code",
   "execution_count": 17,
   "metadata": {
    "collapsed": true
   },
   "outputs": [],
   "source": [
    "# sql assertion tests\n",
    "\n",
    "table_exists = !sqlite3 problem3.db \"SELECT name FROM sqlite_master WHERE type='table' and name='validRatings';\"\n",
    "assert_equal(table_exists.s, \"validRatings\", msg=\"There's no table named \\\"validRatings\\\" in the database.\")\n",
    "\n",
    "table_info = !sqlite3 problem3.db \"PRAGMA table_info(validRatings);\"\n",
    "columns = [t.split(\"|\")[1] for t in table_info]\n",
    "columns_answer = ['movieId', 'averageRating', 'ratingCounts']\n",
    "assert_equal(set(columns), set(columns_answer))\n",
    "\n",
    "total_rows = !sqlite3 problem3.db \"SELECT COUNT(*) FROM validRatings;\"\n",
    "assert_equal(total_rows.s, \"821\")\n",
    "\n",
    "first_five = !sqlite3 problem3.db \"SELECT * FROM validRatings LIMIT 5;\"\n",
    "first_five_answer = ['1|3.87246963562753|247',\n",
    "                     '2|3.4018691588785|107',\n",
    "                     '3|3.16101694915254|59',\n",
    "                     '5|3.26785714285714|56',\n",
    "                     '6|3.88461538461538|104']\n",
    "assert_equal(set(first_five), set(first_five_answer))\n",
    "\n",
    "counts = !sqlite3 problem3.db \"SELECT ratingCounts FROM validRatings WHERE movieId=497;\"\n",
    "assert_equal(counts.s, \"60\")"
   ]
  },
  {
   "cell_type": "markdown",
   "metadata": {},
   "source": [
    "### 2. Join validRatings and movies into a new table\n"
   ]
  },
  {
   "cell_type": "code",
   "execution_count": 9,
   "metadata": {},
   "outputs": [
    {
     "name": "stdout",
     "output_type": "stream",
     "text": [
      "Overwriting join.sql\n"
     ]
    }
   ],
   "source": [
    "%%writefile join.sql\n",
    "DROP TABLE IF EXISTS movieRatings;\n",
    "CREATE TABLE movieRatings AS\n",
    "  SELECT V.averageRating, M.title, M.genres\n",
    "    FROM validRatings AS V, movies AS M\n",
    "    WHERE V.movieId=M.movieId;"
   ]
  },
  {
   "cell_type": "code",
   "execution_count": 10,
   "metadata": {
    "collapsed": true
   },
   "outputs": [],
   "source": [
    "!sqlite3 problem3.db < join.sql"
   ]
  },
  {
   "cell_type": "code",
   "execution_count": 18,
   "metadata": {},
   "outputs": [
    {
     "name": "stdout",
     "output_type": "stream",
     "text": [
      "3.87246963562753|Toy Story (1995)|Adventure|Animation|Children|Comedy|Fantasy\r\n",
      "3.4018691588785|Jumanji (1995)|Adventure|Children|Fantasy\r\n",
      "3.16101694915254|Grumpier Old Men (1995)|Comedy|Romance\r\n",
      "3.26785714285714|Father of the Bride Part II (1995)|Comedy\r\n",
      "3.88461538461538|Heat (1995)|Action|Crime|Thriller\r\n"
     ]
    }
   ],
   "source": [
    "!sqlite3 problem3.db \"SELECT * FROM movieRatings LIMIT 5;\""
   ]
  },
  {
   "cell_type": "code",
   "execution_count": 19,
   "metadata": {
    "collapsed": true
   },
   "outputs": [],
   "source": [
    "# sql assertion tests\n",
    "\n",
    "movieRatings_exists = !sqlite3 problem3.db \"SELECT name FROM sqlite_master WHERE type='table' and name='movieRatings';\"\n",
    "assert_equal(movieRatings_exists.s, \"movieRatings\", msg=\"There's no table named \\\"movieRatings\\\" in the database.\")\n",
    "\n",
    "movieRatings_info = !sqlite3 problem3.db \"PRAGMA table_info(movieRatings);\"\n",
    "movieRatings_columns = [t.split(\"|\")[1] for t in movieRatings_info]\n",
    "movieRatings_columns_answer = ['averageRating', 'title', 'genres']\n",
    "assert_equal(set(movieRatings_columns), set(movieRatings_columns_answer))\n",
    "\n",
    "movieRatings_total_rows = !sqlite3 problem3.db \"SELECT COUNT(*) FROM movieRatings;\"\n",
    "assert_equal(movieRatings_total_rows.s, \"821\")\n",
    "\n",
    "movieRatings_first_five = !sqlite3 problem3.db \"SELECT * FROM movieRatings LIMIT 5;\"\n",
    "movieRatings_first_five_answer = ['3.87246963562753|Toy Story (1995)|Adventure|Animation|Children|Comedy|Fantasy',\n",
    "                                  '3.4018691588785|Jumanji (1995)|Adventure|Children|Fantasy',\n",
    "                                  '3.16101694915254|Grumpier Old Men (1995)|Comedy|Romance',\n",
    "                                  '3.26785714285714|Father of the Bride Part II (1995)|Comedy',\n",
    "                                  '3.88461538461538|Heat (1995)|Action|Crime|Thriller']\n",
    "assert_equal(set(movieRatings_first_five), set(movieRatings_first_five_answer))\n",
    "\n",
    "rating = !sqlite3 problem3.db \"SELECT averageRating FROM movieRatings WHERE title='Interstellar (2014)';\"\n",
    "assert_equal(rating.s, \"4.15116279069767\")\n"
   ]
  },
  {
   "cell_type": "markdown",
   "metadata": {},
   "source": [
    "### 3. Find the best horror movies"
   ]
  },
  {
   "cell_type": "code",
   "execution_count": 25,
   "metadata": {},
   "outputs": [
    {
     "name": "stdout",
     "output_type": "stream",
     "text": [
      "Overwriting best_horror_movies.sql\n"
     ]
    }
   ],
   "source": [
    "%%writefile best_horror_movies.sql\n",
    "SELECT * FROM movieRatings\n",
    "WHERE averageRating>4.0 AND genres LIKE '%Horror%'\n",
    "ORDER BY averageRating DESC;"
   ]
  },
  {
   "cell_type": "code",
   "execution_count": 26,
   "metadata": {},
   "outputs": [
    {
     "name": "stdout",
     "output_type": "stream",
     "text": [
      "4.25324675324675|Psycho (1960)|Crime|Horror\r\n",
      "4.13815789473684|Silence of the Lambs, The (1991)|Crime|Horror|Thriller\r\n",
      "4.02970297029703|Shining, The (1980)|Horror\r\n",
      "4.01813471502591|Sixth Sense, The (1999)|Drama|Horror|Mystery\r\n"
     ]
    }
   ],
   "source": [
    "!sqlite3 problem3.db < best_horror_movies.sql"
   ]
  },
  {
   "cell_type": "markdown",
   "metadata": {},
   "source": [
    "### 4. Find the most popular movie"
   ]
  },
  {
   "cell_type": "code",
   "execution_count": 28,
   "metadata": {},
   "outputs": [
    {
     "name": "stdout",
     "output_type": "stream",
     "text": [
      "Writing most_popular.sql\n"
     ]
    }
   ],
   "source": [
    "%%writefile most_popular.sql\n",
    "SELECT MAX(V.ratingCounts),M.title, M.genres \n",
    "FROM validRatings AS V, movies AS M\n",
    "WHERE V.movieId=M.movieId;"
   ]
  },
  {
   "cell_type": "code",
   "execution_count": 29,
   "metadata": {},
   "outputs": [
    {
     "name": "stdout",
     "output_type": "stream",
     "text": [
      "341|Forrest Gump (1994)|Comedy|Drama|Romance|War\r\n"
     ]
    }
   ],
   "source": [
    "!sqlite3 problem3.db < most_popular.sql"
   ]
  },
  {
   "cell_type": "code",
   "execution_count": 30,
   "metadata": {
    "collapsed": true
   },
   "outputs": [],
   "source": [
    "#sql assertion tests\n",
    "most_popular_query = !sqlite3 problem3.db < most_popular.sql\n",
    "most_popular_query_answer = \"341|Forrest Gump (1994)|Comedy|Drama|Romance|War\"\n",
    "assert_equal(most_popular_query.s, most_popular_query_answer)"
   ]
  },
  {
   "cell_type": "code",
   "execution_count": 31,
   "metadata": {
    "collapsed": true
   },
   "outputs": [],
   "source": [
    "!rm problem3.db movies.sql ratings.sql best_horror_movies.sql \\\n",
    " most_popular.sql movies.csv ratings.csv"
   ]
  }
 ],
 "metadata": {
  "kernelspec": {
   "display_name": "Python 3",
   "language": "python",
   "name": "python3"
  },
  "language_info": {
   "codemirror_mode": {
    "name": "ipython",
    "version": 3
   },
   "file_extension": ".py",
   "mimetype": "text/x-python",
   "name": "python",
   "nbconvert_exporter": "python",
   "pygments_lexer": "ipython3",
   "version": "3.6.1"
  }
 },
 "nbformat": 4,
 "nbformat_minor": 2
}
