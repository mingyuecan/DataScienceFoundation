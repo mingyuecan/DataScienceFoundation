{
 "cells": [
  {
   "cell_type": "code",
   "execution_count": 1,
   "metadata": {
    "collapsed": true
   },
   "outputs": [],
   "source": [
    "from nose.tools import assert_equal"
   ]
  },
  {
   "cell_type": "code",
   "execution_count": 65,
   "metadata": {
    "collapsed": true
   },
   "outputs": [],
   "source": [
    "CSV_PATH = \"2001.csv\""
   ]
  },
  {
   "cell_type": "code",
   "execution_count": 66,
   "metadata": {},
   "outputs": [
    {
     "name": "stdout",
     "output_type": "stream",
     "text": [
      "ln: 2001.csv: File exists\r\n"
     ]
    }
   ],
   "source": [
    "!ln -s $CSV_PATH 2001.csv"
   ]
  },
  {
   "cell_type": "code",
   "execution_count": 70,
   "metadata": {},
   "outputs": [
    {
     "name": "stdout",
     "output_type": "stream",
     "text": [
      "Writing airport.sql\n"
     ]
    }
   ],
   "source": [
    "%%writefile airport.sql\n",
    "\n",
    "DROP TABLE IF EXISTS flights;\n",
    "\n",
    "CREATE TABLE flights (\n",
    "    year INT,\n",
    "    month INT,\n",
    "    dayOfMonth INT,\n",
    "    dayOfWeek INT,\n",
    "    actualDepartureTime INT,\n",
    "    scheduledDepartureTime INT,\n",
    "    arrivalArrivalTime INT,\n",
    "    scheduledArrivalTime INT,\n",
    "    uniqueCarrierCode TEXT,\n",
    "    flightNumber INT,\n",
    "    tailNumber TEXT,\n",
    "    actualElapsedTime INT,\n",
    "    scheduledElapsedTime INT,\n",
    "    airTime INT,\n",
    "    arrivalDelay INT,\n",
    "    departureDelay INT,\n",
    "    originCode TEXT,\n",
    "    destinationCode TEXT,\n",
    "    distance INT,\n",
    "    taxiIn INT,\n",
    "    taxiOut INT,\n",
    "    cancelled INT,\n",
    "    cancellationCode TEXT,\n",
    "    diverted INT,\n",
    "    carrierDelay INT,\n",
    "    weatherDelay INT,\n",
    "    nasDelay INT,\n",
    "    securityDelay INT,\n",
    "    lateAircraftDelay INT\n",
    ");\n",
    "\n",
    ".separator ,\n",
    ".import 2001.csv flights\n",
    "\n",
    "-- Our file has a header. The following line deletes the header.\n",
    "DELETE FROM flights WHERE Year='Year';"
   ]
  },
  {
   "cell_type": "code",
   "execution_count": 71,
   "metadata": {
    "collapsed": true
   },
   "outputs": [],
   "source": [
    "!sqlite3 assignment.db < airport.sql"
   ]
  },
  {
   "cell_type": "markdown",
   "metadata": {},
   "source": [
    "## Problem 1: Creating a Database"
   ]
  },
  {
   "cell_type": "markdown",
   "metadata": {},
   "source": [
    "### 1.1 Count flights table"
   ]
  },
  {
   "cell_type": "code",
   "execution_count": 76,
   "metadata": {},
   "outputs": [
    {
     "name": "stdout",
     "output_type": "stream",
     "text": [
      "Writing count_lines_flights.sql\n"
     ]
    }
   ],
   "source": [
    "%%writefile count_lines_flights.sql\n",
    "SELECT COUNT(*) FROM flights;"
   ]
  },
  {
   "cell_type": "code",
   "execution_count": 77,
   "metadata": {},
   "outputs": [
    {
     "name": "stdout",
     "output_type": "stream",
     "text": [
      "5967780\n"
     ]
    }
   ],
   "source": [
    "nlines_flights = !sqlite3 assignment.db < count_lines_flights.sql\n",
    "print(nlines_flights.s)\n",
    "assert_equal(nlines_flights.s, \"5967780\")"
   ]
  },
  {
   "cell_type": "markdown",
   "metadata": {},
   "source": [
    "### 1.2 Creating another table"
   ]
  },
  {
   "cell_type": "code",
   "execution_count": 81,
   "metadata": {
    "collapsed": true
   },
   "outputs": [],
   "source": [
    "!curl -s https://raw.githubusercontent.com/UI-DataScience/info490-fa15/master/Week12/assignment/iata.csv  -o iata.csv "
   ]
  },
  {
   "cell_type": "code",
   "execution_count": 86,
   "metadata": {},
   "outputs": [
    {
     "name": "stdout",
     "output_type": "stream",
     "text": [
      "Overwriting import_iata.sql\n"
     ]
    }
   ],
   "source": [
    "%%writefile import_iata.sql\n",
    "\n",
    "DROP TABLE iata ;\n",
    "    \n",
    "CREATE TABLE iata (\n",
    "    airportID INT NOT NULL,\n",
    "    name TEXT,\n",
    "    city TEXT,\n",
    "    country TEXT,\n",
    "    iata TEXT,\n",
    "    icao TEXT, \n",
    "    latitude REAL, \n",
    "    longitude REAL, \n",
    "    altitude INT, \n",
    "    timeZone INT, \n",
    "    dst TEXT, \n",
    "    tzDatabaseTimeZone TEXT\n",
    ") ;\n",
    "\n",
    ".mode csv\n",
    "\n",
    ".import iata.csv iata"
   ]
  },
  {
   "cell_type": "code",
   "execution_count": 87,
   "metadata": {
    "collapsed": true
   },
   "outputs": [],
   "source": [
    "!sqlite3 assignment.db < import_iata.sql"
   ]
  },
  {
   "cell_type": "code",
   "execution_count": 89,
   "metadata": {},
   "outputs": [
    {
     "name": "stdout",
     "output_type": "stream",
     "text": [
      "1|Goroka|Goroka|Papua New Guinea|GKA|AYGA|-6.081689|145.391881|5282|10|U|Pacific/Port_Moresby\r\n",
      "2|Madang|Madang|Papua New Guinea|MAG|AYMD|-5.207083|145.7887|20|10|U|Pacific/Port_Moresby\r\n",
      "3|Mount Hagen|Mount Hagen|Papua New Guinea|HGU|AYMH|-5.826789|144.295861|5388|10|U|Pacific/Port_Moresby\r\n",
      "4|Nadzab|Nadzab|Papua New Guinea|LAE|AYNZ|-6.569828|146.726242|239|10|U|Pacific/Port_Moresby\r\n",
      "5|Port Moresby Jacksons Intl|Port Moresby|Papua New Guinea|POM|AYPY|-9.443383|147.22005|146|10|U|Pacific/Port_Moresby\r\n",
      "6|Wewak Intl|Wewak|Papua New Guinea|WWK|AYWK|-3.583828|143.669186|19|10|U|Pacific/Port_Moresby\r\n",
      "7|Narsarsuaq|Narssarssuaq|Greenland|UAK|BGBW|61.160517|-45.425978|112|-3|E|America/Godthab\r\n",
      "8|Nuuk|Godthaab|Greenland|GOH|BGGH|64.190922|-51.678064|283|-3|E|America/Godthab\r\n",
      "9|Sondre Stromfjord|Sondrestrom|Greenland|SFJ|BGSF|67.016969|-50.689325|165|-3|E|America/Godthab\r\n",
      "10|Thule Air Base|Thule|Greenland|THU|BGTL|76.531203|-68.703161|251|-4|E|America/Thule\r\n"
     ]
    }
   ],
   "source": [
    "!sqlite3 assignment.db \"SELECT * FROM iata LIMIT 10\""
   ]
  },
  {
   "cell_type": "code",
   "execution_count": 90,
   "metadata": {
    "collapsed": true
   },
   "outputs": [],
   "source": [
    "iata_exists = !sqlite3 assignment.db \"SELECT name FROM sqlite_master WHERE type='table' and name='iata'\"\n",
    "assert_equal(iata_exists.s, \"iata\")"
   ]
  },
  {
   "cell_type": "code",
   "execution_count": 91,
   "metadata": {
    "collapsed": true
   },
   "outputs": [],
   "source": [
    "iata_info = !sqlite3 assignment.db \"PRAGMA table_info(iata)\"\n",
    "iata_names = [i.split(\"|\")[1] for i in iata_info]\n",
    "iata_names_answer = [\n",
    "    \"airportID\",\n",
    "    \"name\",\n",
    "    \"city\",\n",
    "    \"country\",\n",
    "    \"iata\",\n",
    "    \"icao\",\n",
    "    \"latitude\",\n",
    "    \"longitude\",\n",
    "    \"altitude\",\n",
    "    \"timeZone\",\n",
    "    \"dst\",\n",
    "    \"tzDatabaseTimeZone\"\n",
    "]\n",
    "assert_equal(len(iata_names), len(iata_names_answer))\n",
    "assert_equal(set(iata_names), set(iata_names_answer))"
   ]
  },
  {
   "cell_type": "markdown",
   "metadata": {},
   "source": [
    "### 1.3. Count iata table"
   ]
  },
  {
   "cell_type": "code",
   "execution_count": 92,
   "metadata": {},
   "outputs": [
    {
     "name": "stdout",
     "output_type": "stream",
     "text": [
      "Writing count_lines_iata.sql\n"
     ]
    }
   ],
   "source": [
    "%%writefile count_lines_iata.sql\n",
    "SELECT COUNT(*) FROM iata;"
   ]
  },
  {
   "cell_type": "code",
   "execution_count": 93,
   "metadata": {},
   "outputs": [
    {
     "name": "stdout",
     "output_type": "stream",
     "text": [
      "8107\n"
     ]
    }
   ],
   "source": [
    "nlines_iata = !sqlite3 assignment.db < count_lines_iata.sql\n",
    "print(nlines_iata.s)\n",
    "\n",
    "assert_equal(nlines_iata.s, \"8107\")"
   ]
  },
  {
   "cell_type": "markdown",
   "metadata": {},
   "source": [
    "## Problem 2. Data Manipulation"
   ]
  },
  {
   "cell_type": "markdown",
   "metadata": {},
   "source": [
    "### 2.1 Joining tables"
   ]
  },
  {
   "cell_type": "code",
   "execution_count": 3,
   "metadata": {},
   "outputs": [
    {
     "name": "stdout",
     "output_type": "stream",
     "text": [
      "Overwriting join.sql\n"
     ]
    }
   ],
   "source": [
    "%%writefile join.sql\n",
    "\n",
    "CREATE TABLE myTable AS\n",
    "  SELECT f.month, f.dayOfMonth, f.uniqueCarrierCode, f.flightNumber, f.scheduledDepartureTime, \n",
    "         f.diverted, i.city\n",
    "    FROM flights AS f, iata AS i\n",
    "    where f.destinationCode=i.iata;\n",
    "  "
   ]
  },
  {
   "cell_type": "code",
   "execution_count": 4,
   "metadata": {
    "collapsed": true
   },
   "outputs": [],
   "source": [
    "!sqlite3 assignment.db < join.sql"
   ]
  },
  {
   "cell_type": "code",
   "execution_count": 5,
   "metadata": {},
   "outputs": [
    {
     "name": "stdout",
     "output_type": "stream",
     "text": [
      "1|17|US|375|1810|0|Charlotte\r\n",
      "1|18|US|375|1810|0|Charlotte\r\n",
      "1|19|US|375|1810|0|Charlotte\r\n",
      "1|20|US|375|1810|0|Charlotte\r\n",
      "1|21|US|375|1810|0|Charlotte\r\n",
      "1|22|US|375|1810|0|Charlotte\r\n",
      "1|23|US|375|1810|0|Charlotte\r\n",
      "1|24|US|375|1810|0|Charlotte\r\n",
      "1|25|US|375|1810|0|Charlotte\r\n",
      "1|26|US|375|1810|0|Charlotte\r\n"
     ]
    }
   ],
   "source": [
    "!sqlite3 assignment.db \"SELECT * FROM myTable LIMIT 10;\""
   ]
  },
  {
   "cell_type": "code",
   "execution_count": 8,
   "metadata": {
    "collapsed": true
   },
   "outputs": [],
   "source": [
    "mytable_exists = !sqlite3 assignment.db \"SELECT name FROM sqlite_master WHERE type='table' AND name='myTable';\"\n",
    "assert_equal(mytable_exists.s, \"myTable\")\n",
    "\n",
    "table_info = !sqlite3 assignment.db \"PRAGMA table_info(myTable);\"\n",
    "\n",
    "mytable_names = [i.split(\"|\")[1] for i in table_info]\n",
    "mytable_names_answer = [\n",
    "    'month', 'dayOfMonth', 'uniqueCarrierCode', 'flightNumber', 'scheduledDepartureTime', 'diverted', 'city'\n",
    "]\n",
    "assert_equal(len(mytable_names), len(mytable_names_answer))\n",
    "assert_equal(set(mytable_names), set(mytable_names_answer))\n",
    "\n",
    "# do some sample queries\n",
    "mytable_count_ord = !sqlite3 assignment.db \"SELECT COUNT(*) FROM myTable WHERE city='Chicago';\"\n",
    "assert_equal(mytable_count_ord.s, \"391776\")\n",
    "\n",
    "mytable_count_sfo = !sqlite3 assignment.db \"SELECT COUNT(*) FROM myTable WHERE city='San Francisco';\"\n",
    "assert_equal(mytable_count_sfo.s, \"121738\")"
   ]
  },
  {
   "cell_type": "markdown",
   "metadata": {},
   "source": [
    "### 2.2 Inserting"
   ]
  },
  {
   "cell_type": "code",
   "execution_count": 12,
   "metadata": {},
   "outputs": [
    {
     "name": "stdout",
     "output_type": "stream",
     "text": [
      "Overwriting insert.sql\n"
     ]
    }
   ],
   "source": [
    "%%writefile insert.sql\n",
    "INSERT INTO myTable \n",
    "VALUES(9, 9, 'INFO',490, 0800, 1, 'Champaign') ;"
   ]
  },
  {
   "cell_type": "code",
   "execution_count": 14,
   "metadata": {
    "collapsed": true
   },
   "outputs": [],
   "source": [
    "!sqlite3 assignment.db <insert.sql"
   ]
  },
  {
   "cell_type": "code",
   "execution_count": 15,
   "metadata": {},
   "outputs": [
    {
     "name": "stdout",
     "output_type": "stream",
     "text": [
      "\n",
      "UniqueCarrierCode: INFO\n",
      "Month: 9\n",
      "Day: 9\n",
      "Flight Number: 490\n",
      "Scheduled Departure Time: 800\n",
      "Diverted: 1\n",
      "Origin City: Champaign\n",
      "\n"
     ]
    }
   ],
   "source": [
    "info_month = !sqlite3 assignment.db \"SELECT month FROM myTable WHERE uniqueCarrierCode='INFO';\"\n",
    "info_day = !sqlite3 assignment.db \"SELECT dayOfMonth FROM myTable WHERE uniqueCarrierCode='INFO';\"\n",
    "info_flight_no = !sqlite3 assignment.db \"SELECT flightNumber FROM myTable WHERE uniqueCarrierCode='INFO';\"\n",
    "info_crs_dep = !sqlite3 assignment.db \"SELECT scheduledDepartureTime FROM myTable WHERE uniqueCarrierCode='INFO';\"\n",
    "info_diverted = !sqlite3 assignment.db \"SELECT diverted FROM myTable WHERE uniqueCarrierCode='INFO';\"\n",
    "info_dest = !sqlite3 assignment.db \"SELECT city FROM myTable WHERE uniqueCarrierCode='INFO';\"\n",
    "\n",
    "print('''\n",
    "UniqueCarrierCode: {0}\n",
    "Month: {1}\n",
    "Day: {2}\n",
    "Flight Number: {3}\n",
    "Scheduled Departure Time: {4}\n",
    "Diverted: {5}\n",
    "Origin City: {6}\n",
    "'''.format(\n",
    "    \"INFO\",\n",
    "    info_month.s,\n",
    "    info_day.s,\n",
    "    info_flight_no.s,\n",
    "    info_crs_dep.s,\n",
    "    info_diverted.s,\n",
    "    info_dest.s\n",
    "    )\n",
    ")"
   ]
  },
  {
   "cell_type": "code",
   "execution_count": 16,
   "metadata": {
    "collapsed": true
   },
   "outputs": [],
   "source": [
    "assert_equal(\"9\", info_month.s)\n",
    "assert_equal(\"9\", info_day.s)\n",
    "assert_equal(\"490\", info_flight_no.s)\n",
    "assert_equal(\"800\", info_crs_dep.s)\n",
    "assert_equal(\"1\", info_diverted.s)\n",
    "assert_equal(\"Champaign\", info_dest.s)"
   ]
  },
  {
   "cell_type": "markdown",
   "metadata": {},
   "source": [
    "## Problem 3. Query"
   ]
  },
  {
   "cell_type": "markdown",
   "metadata": {},
   "source": [
    "### 3.1 Average"
   ]
  },
  {
   "cell_type": "code",
   "execution_count": 27,
   "metadata": {},
   "outputs": [
    {
     "name": "stdout",
     "output_type": "stream",
     "text": [
      "Overwriting get_average_depdelay.sql\n"
     ]
    }
   ],
   "source": [
    "%%writefile get_average_depdelay.sql\n",
    "SELECT AVG(departureDelay) FROM flights\n",
    "WHERE departureDelay <> 'NA';"
   ]
  },
  {
   "cell_type": "code",
   "execution_count": 29,
   "metadata": {},
   "outputs": [
    {
     "name": "stdout",
     "output_type": "stream",
     "text": [
      "['8.15483749731112']\n"
     ]
    }
   ],
   "source": [
    "average_depdelay = !sqlite3 assignment.db < get_average_depdelay.sql\n",
    "print(average_depdelay)\n",
    "assert_equal(average_depdelay.s, '8.15483749731112')"
   ]
  },
  {
   "cell_type": "markdown",
   "metadata": {},
   "source": [
    "### 3.2 Maximum"
   ]
  },
  {
   "cell_type": "code",
   "execution_count": 24,
   "metadata": {},
   "outputs": [
    {
     "name": "stdout",
     "output_type": "stream",
     "text": [
      "Overwriting get_maximum_depdelay.sql\n"
     ]
    }
   ],
   "source": [
    "%%writefile get_maximum_depdelay.sql\n",
    "SELECT MAX(departureDelay) FROM flights\n",
    "WHERE departureDelay <> 'NA';"
   ]
  },
  {
   "cell_type": "code",
   "execution_count": 26,
   "metadata": {},
   "outputs": [
    {
     "name": "stdout",
     "output_type": "stream",
     "text": [
      "['1692']\n"
     ]
    }
   ],
   "source": [
    "maximum_depdelay = !sqlite3 assignment.db < get_maximum_depdelay.sql\n",
    "print(maximum_depdelay)\n",
    "assert_equal(maximum_depdelay.s, '1692')"
   ]
  },
  {
   "cell_type": "markdown",
   "metadata": {},
   "source": [
    "### 3.3 Minimum"
   ]
  },
  {
   "cell_type": "code",
   "execution_count": 30,
   "metadata": {},
   "outputs": [
    {
     "name": "stdout",
     "output_type": "stream",
     "text": [
      "Writing get_minimum_depdelay.sql\n"
     ]
    }
   ],
   "source": [
    "%%writefile get_minimum_depdelay.sql\n",
    "SELECT MIN(departureDelay) FROM flights\n",
    "WHERE departureDelay <> 'NA';"
   ]
  },
  {
   "cell_type": "code",
   "execution_count": 31,
   "metadata": {},
   "outputs": [
    {
     "name": "stdout",
     "output_type": "stream",
     "text": [
      "['-204']\n"
     ]
    }
   ],
   "source": [
    "minimum_depdelay = !sqlite3 assignment.db < get_minimum_depdelay.sql\n",
    "print(minimum_depdelay)\n",
    "assert_equal(minimum_depdelay.s, '-204')"
   ]
  },
  {
   "cell_type": "markdown",
   "metadata": {},
   "source": [
    "### 3.4 Search"
   ]
  },
  {
   "cell_type": "code",
   "execution_count": 38,
   "metadata": {},
   "outputs": [
    {
     "name": "stdout",
     "output_type": "stream",
     "text": [
      "Overwriting find.sql\n"
     ]
    }
   ],
   "source": [
    "%%writefile find.sql\n",
    "SELECT Month, dayOfMonth, uniqueCarrierCode, flightNumber FROM myTable\n",
    "WHERE Month=9 AND scheduledDepartureTime>745 AND scheduledDepartureTime<815 AND city='San Francisco' AND diverted=1;"
   ]
  },
  {
   "cell_type": "code",
   "execution_count": 39,
   "metadata": {},
   "outputs": [
    {
     "name": "stdout",
     "output_type": "stream",
     "text": [
      "['9|11|UA|93', '9|11|UA|301', '9|11|UA|805', '9|11|UA|809', '9|22|UA|2377', '9|11|US|63', '9|11|AA|59']\n"
     ]
    }
   ],
   "source": [
    "query = !sqlite3 assignment.db < find.sql\n",
    "print(query)"
   ]
  },
  {
   "cell_type": "code",
   "execution_count": 40,
   "metadata": {
    "collapsed": true
   },
   "outputs": [],
   "source": [
    "query_answer = ['9|11|UA|93', '9|11|UA|301', '9|11|UA|805', '9|11|UA|809', '9|22|UA|2377', '9|11|US|63', '9|11|AA|59']\n",
    "\n",
    "assert_equal(len(query), len(query_answer))\n",
    "assert_equal(set(query), set(query_answer))"
   ]
  }
 ],
 "metadata": {
  "kernelspec": {
   "display_name": "Python 3",
   "language": "python",
   "name": "python3"
  },
  "language_info": {
   "codemirror_mode": {
    "name": "ipython",
    "version": 3
   },
   "file_extension": ".py",
   "mimetype": "text/x-python",
   "name": "python",
   "nbconvert_exporter": "python",
   "pygments_lexer": "ipython3",
   "version": "3.6.1"
  }
 },
 "nbformat": 4,
 "nbformat_minor": 2
}
